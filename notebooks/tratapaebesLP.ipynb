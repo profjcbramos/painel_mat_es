{
 "cells": [
  {
   "cell_type": "code",
   "id": "initial_id",
   "metadata": {
    "collapsed": true,
    "ExecuteTime": {
     "end_time": "2025-07-01T16:16:06.335721Z",
     "start_time": "2025-07-01T16:16:06.312760Z"
    }
   },
   "source": [
    "# Importações\n",
    "import pandas as pd"
   ],
   "outputs": [],
   "execution_count": 50
  },
  {
   "metadata": {},
   "cell_type": "markdown",
   "source": "Cerregamento",
   "id": "dc3f642f3f50345d"
  },
  {
   "metadata": {
    "ExecuteTime": {
     "end_time": "2025-07-01T16:16:06.519311Z",
     "start_time": "2025-07-01T16:16:06.485172Z"
    }
   },
   "cell_type": "code",
   "source": [
    "paebes_integrado_23 = pd.read_csv(\"../DadosBrutos/Paebes_integrado_2023.csv\",sep = \";\")\n",
    "paebes_regular_23 = pd.read_csv(\"../DadosBrutos/Paebes_regular_2023.csv\",sep = \";\")\n",
    "paebes_24 = pd.read_csv(\"../DadosBrutos/paebesGeral_2024.csv\",sep = \";\")"
   ],
   "id": "6fe51415a3bc909a",
   "outputs": [],
   "execution_count": 51
  },
  {
   "metadata": {},
   "cell_type": "markdown",
   "source": "Tratamento",
   "id": "7ba15fe6ad2ad531"
  },
  {
   "metadata": {
    "ExecuteTime": {
     "end_time": "2025-07-01T16:16:06.684569Z",
     "start_time": "2025-07-01T16:16:06.648650Z"
    }
   },
   "cell_type": "code",
   "source": [
    "# Lista de dataframes e colunas com porcentagem\n",
    "bases = [paebes_integrado_23, paebes_regular_23, paebes_24]\n",
    "colunas_percentuais = ['Abaixo do básico', 'Básico', 'Proficiente', 'Avançado']\n",
    "\n",
    "# Corrigir as colunas de porcentagem para valores numéricos\n",
    "for base in bases:\n",
    "    for col in colunas_percentuais:\n",
    "        base[col] = base[col].str.replace('%', '', regex=False).str.replace(',', '.', regex=False)\n",
    "        base[col] = pd.to_numeric(base[col], errors='coerce')\n"
   ],
   "id": "a5968666386945b2",
   "outputs": [],
   "execution_count": 52
  },
  {
   "metadata": {
    "ExecuteTime": {
     "end_time": "2025-07-01T16:16:06.852170Z",
     "start_time": "2025-07-01T16:16:06.840301Z"
    }
   },
   "cell_type": "code",
   "source": "paebes_integrado_23.columns",
   "id": "10a3d3fa65b06bcd",
   "outputs": [
    {
     "data": {
      "text/plain": [
       "Index(['Rede', 'Etapa', 'Componente Curricular', 'Código da Regional',\n",
       "       'Município', 'Previstos', 'Avaliados', 'Avaliados (%)',\n",
       "       'Proficiência Média', 'Abaixo do básico', 'Básico', 'Proficiente',\n",
       "       'Avançado', 'H 01 (%)', 'H 02 (%)', 'H 03 (%)', 'H 04 (%)', 'H 05 (%)',\n",
       "       'H 06 (%)', 'H 07 (%)', 'H 08 (%)', 'H 09 (%)', 'H 10 (%)', 'H 11 (%)',\n",
       "       'H 12 (%)', 'H 13 (%)', 'H 14 (%)', 'H 15 (%)', 'H 16 (%)', 'H 17 (%)',\n",
       "       'H 18 (%)', 'H 19 (%)', 'H 20 (%)', 'H 21 (%)', 'H 22 (%)', 'H 23 (%)',\n",
       "       'H 24 (%)', 'H 25 (%)', 'H 26 (%)'],\n",
       "      dtype='object')"
      ]
     },
     "execution_count": 53,
     "metadata": {},
     "output_type": "execute_result"
    }
   ],
   "execution_count": 53
  },
  {
   "metadata": {
    "ExecuteTime": {
     "end_time": "2025-07-01T16:16:07.028249Z",
     "start_time": "2025-07-01T16:16:07.019686Z"
    }
   },
   "cell_type": "code",
   "source": [
    "colunas24 = ['Regional', 'Município', 'Previstos', 'Avaliados', 'Avaliados (%)',\n",
    "       'Proficiência Média', 'Abaixo do básico', 'Básico', 'Proficiente',\n",
    "       'Avançado', ]\n",
    "\n",
    "colunas23 = ['Código da Regional',\n",
    "       'Município', 'Previstos', 'Avaliados', 'Avaliados (%)',\n",
    "       'Proficiência Média', 'Abaixo do básico', 'Básico', 'Proficiente',\n",
    "       'Avançado']\n",
    "\n"
   ],
   "id": "d4031cecb52c1f7d",
   "outputs": [],
   "execution_count": 54
  },
  {
   "metadata": {
    "ExecuteTime": {
     "end_time": "2025-07-01T16:16:07.178168Z",
     "start_time": "2025-07-01T16:16:07.165373Z"
    }
   },
   "cell_type": "code",
   "source": "paebes_24.columns",
   "id": "c97f4bb25f3cf24e",
   "outputs": [
    {
     "data": {
      "text/plain": [
       "Index(['Avaliação', 'Rede', 'Ano Escolar', 'Componente Curricular', 'Estado',\n",
       "       'Regional', 'Município', 'Previstos', 'Avaliados', 'Avaliados (%)',\n",
       "       'Proficiência Média', 'Abaixo do básico', 'Básico', 'Proficiente',\n",
       "       'Avançado', 'H 01 (%)', 'H 02 (%)', 'H 03 (%)', 'H 04 (%)', 'H 05 (%)',\n",
       "       'H 06 (%)', 'H 07 (%)', 'H 08 (%)', 'H 09 (%)', 'H 10 (%)', 'H 11 (%)',\n",
       "       'H 12 (%)', 'H 13 (%)', 'H 14 (%)', 'H 15 (%)', 'H 16 (%)', 'H 17 (%)',\n",
       "       'H 18 (%)', 'H 19 (%)', 'H 20 (%)', 'H 21 (%)', 'H 22 (%)', 'H 23 (%)',\n",
       "       'H 24 (%)', 'H 25 (%)', 'H 26 (%)'],\n",
       "      dtype='object')"
      ]
     },
     "execution_count": 55,
     "metadata": {},
     "output_type": "execute_result"
    }
   ],
   "execution_count": 55
  },
  {
   "metadata": {
    "ExecuteTime": {
     "end_time": "2025-07-01T16:16:07.343409Z",
     "start_time": "2025-07-01T16:16:07.330357Z"
    }
   },
   "cell_type": "code",
   "source": [
    "paebes_integrado_23_enxugado = paebes_integrado_23[colunas23]\n",
    "paebes_regular_23_enxugado = paebes_regular_23[colunas23]"
   ],
   "id": "cad2f7772bab201c",
   "outputs": [],
   "execution_count": 56
  },
  {
   "metadata": {
    "ExecuteTime": {
     "end_time": "2025-07-01T16:16:07.482652Z",
     "start_time": "2025-07-01T16:16:07.462030Z"
    }
   },
   "cell_type": "code",
   "source": [
    "paebes_24_enxugado = paebes_24[colunas24]\n",
    "paebes_24_enxugado.info()"
   ],
   "id": "595eae2a6505ce12",
   "outputs": [
    {
     "name": "stdout",
     "output_type": "stream",
     "text": [
      "<class 'pandas.core.frame.DataFrame'>\n",
      "RangeIndex: 78 entries, 0 to 77\n",
      "Data columns (total 10 columns):\n",
      " #   Column              Non-Null Count  Dtype \n",
      "---  ------              --------------  ----- \n",
      " 0   Regional            78 non-null     object\n",
      " 1   Município           78 non-null     object\n",
      " 2   Previstos           78 non-null     int64 \n",
      " 3   Avaliados           78 non-null     int64 \n",
      " 4   Avaliados (%)       78 non-null     int64 \n",
      " 5   Proficiência Média  78 non-null     int64 \n",
      " 6   Abaixo do básico    78 non-null     int64 \n",
      " 7   Básico              78 non-null     int64 \n",
      " 8   Proficiente         78 non-null     int64 \n",
      " 9   Avançado            78 non-null     int64 \n",
      "dtypes: int64(8), object(2)\n",
      "memory usage: 6.2+ KB\n"
     ]
    }
   ],
   "execution_count": 57
  },
  {
   "metadata": {
    "ExecuteTime": {
     "end_time": "2025-07-01T16:16:07.616857Z",
     "start_time": "2025-07-01T16:16:07.601449Z"
    }
   },
   "cell_type": "code",
   "source": "paebes_integrado_23_enxugado.info()\n",
   "id": "c61961320a6a3738",
   "outputs": [
    {
     "name": "stdout",
     "output_type": "stream",
     "text": [
      "<class 'pandas.core.frame.DataFrame'>\n",
      "RangeIndex: 44 entries, 0 to 43\n",
      "Data columns (total 10 columns):\n",
      " #   Column              Non-Null Count  Dtype \n",
      "---  ------              --------------  ----- \n",
      " 0   Código da Regional  44 non-null     int64 \n",
      " 1   Município           44 non-null     object\n",
      " 2   Previstos           44 non-null     int64 \n",
      " 3   Avaliados           44 non-null     int64 \n",
      " 4   Avaliados (%)       44 non-null     int64 \n",
      " 5   Proficiência Média  44 non-null     int64 \n",
      " 6   Abaixo do básico    44 non-null     int64 \n",
      " 7   Básico              44 non-null     int64 \n",
      " 8   Proficiente         44 non-null     int64 \n",
      " 9   Avançado            44 non-null     int64 \n",
      "dtypes: int64(9), object(1)\n",
      "memory usage: 3.6+ KB\n"
     ]
    }
   ],
   "execution_count": 58
  },
  {
   "metadata": {
    "ExecuteTime": {
     "end_time": "2025-07-01T16:16:07.758067Z",
     "start_time": "2025-07-01T16:16:07.744003Z"
    }
   },
   "cell_type": "code",
   "source": "paebes_regular_23_enxugado.info()",
   "id": "5bd77b793eb2ce68",
   "outputs": [
    {
     "name": "stdout",
     "output_type": "stream",
     "text": [
      "<class 'pandas.core.frame.DataFrame'>\n",
      "RangeIndex: 78 entries, 0 to 77\n",
      "Data columns (total 10 columns):\n",
      " #   Column              Non-Null Count  Dtype \n",
      "---  ------              --------------  ----- \n",
      " 0   Código da Regional  78 non-null     int64 \n",
      " 1   Município           78 non-null     object\n",
      " 2   Previstos           78 non-null     int64 \n",
      " 3   Avaliados           78 non-null     int64 \n",
      " 4   Avaliados (%)       78 non-null     int64 \n",
      " 5   Proficiência Média  78 non-null     int64 \n",
      " 6   Abaixo do básico    78 non-null     int64 \n",
      " 7   Básico              78 non-null     int64 \n",
      " 8   Proficiente         78 non-null     int64 \n",
      " 9   Avançado            78 non-null     int64 \n",
      "dtypes: int64(9), object(1)\n",
      "memory usage: 6.2+ KB\n"
     ]
    }
   ],
   "execution_count": 59
  },
  {
   "metadata": {
    "ExecuteTime": {
     "end_time": "2025-07-01T16:16:07.893247Z",
     "start_time": "2025-07-01T16:16:07.879063Z"
    }
   },
   "cell_type": "code",
   "source": "paebes_24_enxugado.info()",
   "id": "3c3cf8a9304e9005",
   "outputs": [
    {
     "name": "stdout",
     "output_type": "stream",
     "text": [
      "<class 'pandas.core.frame.DataFrame'>\n",
      "RangeIndex: 78 entries, 0 to 77\n",
      "Data columns (total 10 columns):\n",
      " #   Column              Non-Null Count  Dtype \n",
      "---  ------              --------------  ----- \n",
      " 0   Regional            78 non-null     object\n",
      " 1   Município           78 non-null     object\n",
      " 2   Previstos           78 non-null     int64 \n",
      " 3   Avaliados           78 non-null     int64 \n",
      " 4   Avaliados (%)       78 non-null     int64 \n",
      " 5   Proficiência Média  78 non-null     int64 \n",
      " 6   Abaixo do básico    78 non-null     int64 \n",
      " 7   Básico              78 non-null     int64 \n",
      " 8   Proficiente         78 non-null     int64 \n",
      " 9   Avançado            78 non-null     int64 \n",
      "dtypes: int64(8), object(2)\n",
      "memory usage: 6.2+ KB\n"
     ]
    }
   ],
   "execution_count": 60
  },
  {
   "metadata": {
    "ExecuteTime": {
     "end_time": "2025-07-01T16:16:08.023062Z",
     "start_time": "2025-07-01T16:16:08.010429Z"
    }
   },
   "cell_type": "code",
   "source": [
    "def combinar_paebes_regular_integrado(df_regular, df_integrado):\n",
    "    # Lista de colunas de chave para agrupamento\n",
    "    chaves = ['Código da Regional', 'Município']\n",
    "\n",
    "    # Juntar os dois dataframes\n",
    "    df_combinado = pd.concat([df_regular, df_integrado], ignore_index=True)\n",
    "\n",
    "    # Converter colunas numéricas corretamente\n",
    "    col_numericas = ['Previstos', 'Avaliados']\n",
    "    col_percentuais = ['Abaixo do básico', 'Básico', 'Proficiente', 'Avançado', 'Proficiência Média']\n",
    "\n",
    "    for col in col_numericas + col_percentuais:\n",
    "        df_combinado[col] = pd.to_numeric(df_combinado[col], errors='coerce')\n",
    "\n",
    "    # Agrupamento por município e regional\n",
    "    agrupado = df_combinado.groupby(chaves).apply(\n",
    "        lambda grupo: pd.Series({\n",
    "            'Previstos': grupo['Previstos'].sum(),\n",
    "            'Avaliados': grupo['Avaliados'].sum(),\n",
    "            'Avaliados (%)': round(100 * grupo['Avaliados'].sum() / grupo['Previstos'].sum(), 1),\n",
    "            'Proficiência Média': round((grupo['Proficiência Média'] * grupo['Avaliados']).sum() / grupo['Avaliados'].sum(), 1),\n",
    "            'Abaixo do básico': round((grupo['Abaixo do básico'] * grupo['Avaliados']).sum() / grupo['Avaliados'].sum(), 1),\n",
    "            'Básico': round((grupo['Básico'] * grupo['Avaliados']).sum() / grupo['Avaliados'].sum(), 1),\n",
    "            'Proficiente': round((grupo['Proficiente'] * grupo['Avaliados']).sum() / grupo['Avaliados'].sum(), 1),\n",
    "            'Avançado': round((grupo['Avançado'] * grupo['Avaliados']).sum() / grupo['Avaliados'].sum(), 1),\n",
    "        })\n",
    "    ).reset_index()\n",
    "\n",
    "    return agrupado\n"
   ],
   "id": "d67f922d15b9b345",
   "outputs": [],
   "execution_count": 61
  },
  {
   "metadata": {
    "ExecuteTime": {
     "end_time": "2025-07-01T16:16:08.264998Z",
     "start_time": "2025-07-01T16:16:08.134326Z"
    }
   },
   "cell_type": "code",
   "source": [
    "paebes_23_combinado = combinar_paebes_regular_integrado(\n",
    "    paebes_regular_23_enxugado,\n",
    "    paebes_integrado_23_enxugado\n",
    ")"
   ],
   "id": "64fb524d16208bc8",
   "outputs": [
    {
     "name": "stderr",
     "output_type": "stream",
     "text": [
      "C:\\Users\\carlo\\AppData\\Local\\Temp\\ipykernel_19640\\1037160167.py:16: FutureWarning: DataFrameGroupBy.apply operated on the grouping columns. This behavior is deprecated, and in a future version of pandas the grouping columns will be excluded from the operation. Either pass `include_groups=False` to exclude the groupings or explicitly select the grouping columns after groupby to silence this warning.\n",
      "  agrupado = df_combinado.groupby(chaves).apply(\n"
     ]
    }
   ],
   "execution_count": 62
  },
  {
   "metadata": {
    "ExecuteTime": {
     "end_time": "2025-07-01T16:16:08.384495Z",
     "start_time": "2025-07-01T16:16:08.365337Z"
    }
   },
   "cell_type": "code",
   "source": "paebes_23_combinado.loc[paebes_23_combinado['Município'] == 'CONCEICAO DO CASTELO']",
   "id": "e3de8570c471a9f6",
   "outputs": [
    {
     "data": {
      "text/plain": [
       "    Código da Regional             Município  Previstos  Avaliados  \\\n",
       "73                  37  CONCEICAO DO CASTELO       81.0       75.0   \n",
       "\n",
       "    Avaliados (%)  Proficiência Média  Abaixo do básico  Básico  Proficiente  \\\n",
       "73           92.6               284.0              21.0    39.0         37.0   \n",
       "\n",
       "    Avançado  \n",
       "73       3.0  "
      ],
      "text/html": [
       "<div>\n",
       "<style scoped>\n",
       "    .dataframe tbody tr th:only-of-type {\n",
       "        vertical-align: middle;\n",
       "    }\n",
       "\n",
       "    .dataframe tbody tr th {\n",
       "        vertical-align: top;\n",
       "    }\n",
       "\n",
       "    .dataframe thead th {\n",
       "        text-align: right;\n",
       "    }\n",
       "</style>\n",
       "<table border=\"1\" class=\"dataframe\">\n",
       "  <thead>\n",
       "    <tr style=\"text-align: right;\">\n",
       "      <th></th>\n",
       "      <th>Código da Regional</th>\n",
       "      <th>Município</th>\n",
       "      <th>Previstos</th>\n",
       "      <th>Avaliados</th>\n",
       "      <th>Avaliados (%)</th>\n",
       "      <th>Proficiência Média</th>\n",
       "      <th>Abaixo do básico</th>\n",
       "      <th>Básico</th>\n",
       "      <th>Proficiente</th>\n",
       "      <th>Avançado</th>\n",
       "    </tr>\n",
       "  </thead>\n",
       "  <tbody>\n",
       "    <tr>\n",
       "      <th>73</th>\n",
       "      <td>37</td>\n",
       "      <td>CONCEICAO DO CASTELO</td>\n",
       "      <td>81.0</td>\n",
       "      <td>75.0</td>\n",
       "      <td>92.6</td>\n",
       "      <td>284.0</td>\n",
       "      <td>21.0</td>\n",
       "      <td>39.0</td>\n",
       "      <td>37.0</td>\n",
       "      <td>3.0</td>\n",
       "    </tr>\n",
       "  </tbody>\n",
       "</table>\n",
       "</div>"
      ]
     },
     "execution_count": 63,
     "metadata": {},
     "output_type": "execute_result"
    }
   ],
   "execution_count": 63
  },
  {
   "metadata": {
    "ExecuteTime": {
     "end_time": "2025-07-01T16:16:08.583324Z",
     "start_time": "2025-07-01T16:16:08.573451Z"
    }
   },
   "cell_type": "code",
   "source": [
    "from unidecode import unidecode\n",
    "\n",
    "def padronizar_colunas(df):\n",
    "    df.columns = (unidecode(col).strip().lower().replace(' ', '_').replace('%', 'pct') for col in df.columns)\n",
    "    return df\n",
    "\n",
    "paebes_23_combinado = padronizar_colunas(paebes_23_combinado)\n",
    "paebes_24_enxugado = padronizar_colunas(paebes_24_enxugado)\n"
   ],
   "id": "e950c8e14a9bbad4",
   "outputs": [],
   "execution_count": 64
  },
  {
   "metadata": {
    "ExecuteTime": {
     "end_time": "2025-07-01T16:16:08.760610Z",
     "start_time": "2025-07-01T16:16:08.747769Z"
    }
   },
   "cell_type": "code",
   "source": [
    "# Identificar colunas que não são chaves\n",
    "colunas_chave = ['municipio']\n",
    "colunas_23 = [col for col in paebes_23_combinado.columns if col not in colunas_chave + ['codigo_da_regional']]\n",
    "colunas_24 = [col for col in paebes_24_enxugado.columns if col not in colunas_chave + ['regional']]\n",
    "\n",
    "# Renomear colunas com sufixos\n",
    "paebes_23_combinado = paebes_23_combinado.rename(columns={col: col + '_23' for col in colunas_23})\n",
    "paebes_24_enxugado = paebes_24_enxugado.rename(columns={col: col + '_24' for col in colunas_24})\n"
   ],
   "id": "54125fdcb4022e64",
   "outputs": [],
   "execution_count": 65
  },
  {
   "metadata": {
    "ExecuteTime": {
     "end_time": "2025-07-01T16:16:08.945304Z",
     "start_time": "2025-07-01T16:16:08.925736Z"
    }
   },
   "cell_type": "code",
   "source": [
    "paebes_lp_23e24 = pd.merge(\n",
    "    paebes_23_combinado,\n",
    "    paebes_24_enxugado,\n",
    "    how='outer',\n",
    "    on='municipio'\n",
    ")\n"
   ],
   "id": "71091ceaea8ca7dc",
   "outputs": [],
   "execution_count": 66
  },
  {
   "metadata": {
    "ExecuteTime": {
     "end_time": "2025-07-01T16:16:09.157480Z",
     "start_time": "2025-07-01T16:16:09.134556Z"
    }
   },
   "cell_type": "code",
   "source": "paebes_lp_23e24.info()",
   "id": "e61ed74557fe95b1",
   "outputs": [
    {
     "name": "stdout",
     "output_type": "stream",
     "text": [
      "<class 'pandas.core.frame.DataFrame'>\n",
      "RangeIndex: 78 entries, 0 to 77\n",
      "Data columns (total 19 columns):\n",
      " #   Column                 Non-Null Count  Dtype  \n",
      "---  ------                 --------------  -----  \n",
      " 0   codigo_da_regional     78 non-null     int64  \n",
      " 1   municipio              78 non-null     object \n",
      " 2   previstos_23           78 non-null     float64\n",
      " 3   avaliados_23           78 non-null     float64\n",
      " 4   avaliados_(pct)_23     78 non-null     float64\n",
      " 5   proficiencia_media_23  78 non-null     float64\n",
      " 6   abaixo_do_basico_23    78 non-null     float64\n",
      " 7   basico_23              78 non-null     float64\n",
      " 8   proficiente_23         78 non-null     float64\n",
      " 9   avancado_23            78 non-null     float64\n",
      " 10  regional               78 non-null     object \n",
      " 11  previstos_24           78 non-null     int64  \n",
      " 12  avaliados_24           78 non-null     int64  \n",
      " 13  avaliados_(pct)_24     78 non-null     int64  \n",
      " 14  proficiencia_media_24  78 non-null     int64  \n",
      " 15  abaixo_do_basico_24    78 non-null     int64  \n",
      " 16  basico_24              78 non-null     int64  \n",
      " 17  proficiente_24         78 non-null     int64  \n",
      " 18  avancado_24            78 non-null     int64  \n",
      "dtypes: float64(8), int64(9), object(2)\n",
      "memory usage: 11.7+ KB\n"
     ]
    }
   ],
   "execution_count": 67
  },
  {
   "metadata": {
    "ExecuteTime": {
     "end_time": "2025-07-01T16:17:52.908447Z",
     "start_time": "2025-07-01T16:17:52.882216Z"
    }
   },
   "cell_type": "code",
   "source": "paebes_lp_23e24.sample(5)",
   "id": "9e7c7cb759efd49c",
   "outputs": [
    {
     "data": {
      "text/plain": [
       "    codigo_da_regional            regional         municipio  previstos_23  \\\n",
       "4                   28      SRE VILA VELHA    ALFREDO CHAVES          73.0   \n",
       "22                  37  SRE AFONSO CLAUDIO  DOMINGOS MARTINS         260.0   \n",
       "36                  34        SRE COLATINA           ITARANA          61.0   \n",
       "30                  30        SRE LINHARES           IBIRACU          62.0   \n",
       "42                  30        SRE LINHARES          LINHARES        1081.0   \n",
       "\n",
       "    avaliados_23  avaliados_(pct)_23  proficiencia_media_23  \\\n",
       "4           63.0                86.3                  288.4   \n",
       "22         247.0                95.0                  299.0   \n",
       "36          58.0                95.1                  265.0   \n",
       "30          54.0                87.1                  277.0   \n",
       "42         945.0                87.4                  266.5   \n",
       "\n",
       "    abaixo_do_basico_23  basico_23  proficiente_23  avancado_23  previstos_24  \\\n",
       "4                  13.0       49.1            33.6          5.0            60   \n",
       "22                 14.0       31.0            43.0         11.0           262   \n",
       "36                 40.0       26.0            31.0          3.0            64   \n",
       "30                 28.0       43.0            24.0          6.0            84   \n",
       "42                 34.7       37.6            25.2          2.5          1087   \n",
       "\n",
       "    avaliados_24  avaliados_(pct)_24  proficiencia_media_24  \\\n",
       "4             53                  88                    290   \n",
       "22           254                  97                    297   \n",
       "36            64                 100                    282   \n",
       "30            77                  92                    279   \n",
       "42           998                  92                    275   \n",
       "\n",
       "    abaixo_do_basico_24  basico_24  proficiente_24  avancado_24  \n",
       "4                    21         34              42            4  \n",
       "22                   14         34              42           10  \n",
       "36                   22         47              22            9  \n",
       "30                   23         42              32            3  \n",
       "42                   27         40              30            4  "
      ],
      "text/html": [
       "<div>\n",
       "<style scoped>\n",
       "    .dataframe tbody tr th:only-of-type {\n",
       "        vertical-align: middle;\n",
       "    }\n",
       "\n",
       "    .dataframe tbody tr th {\n",
       "        vertical-align: top;\n",
       "    }\n",
       "\n",
       "    .dataframe thead th {\n",
       "        text-align: right;\n",
       "    }\n",
       "</style>\n",
       "<table border=\"1\" class=\"dataframe\">\n",
       "  <thead>\n",
       "    <tr style=\"text-align: right;\">\n",
       "      <th></th>\n",
       "      <th>codigo_da_regional</th>\n",
       "      <th>regional</th>\n",
       "      <th>municipio</th>\n",
       "      <th>previstos_23</th>\n",
       "      <th>avaliados_23</th>\n",
       "      <th>avaliados_(pct)_23</th>\n",
       "      <th>proficiencia_media_23</th>\n",
       "      <th>abaixo_do_basico_23</th>\n",
       "      <th>basico_23</th>\n",
       "      <th>proficiente_23</th>\n",
       "      <th>avancado_23</th>\n",
       "      <th>previstos_24</th>\n",
       "      <th>avaliados_24</th>\n",
       "      <th>avaliados_(pct)_24</th>\n",
       "      <th>proficiencia_media_24</th>\n",
       "      <th>abaixo_do_basico_24</th>\n",
       "      <th>basico_24</th>\n",
       "      <th>proficiente_24</th>\n",
       "      <th>avancado_24</th>\n",
       "    </tr>\n",
       "  </thead>\n",
       "  <tbody>\n",
       "    <tr>\n",
       "      <th>4</th>\n",
       "      <td>28</td>\n",
       "      <td>SRE VILA VELHA</td>\n",
       "      <td>ALFREDO CHAVES</td>\n",
       "      <td>73.0</td>\n",
       "      <td>63.0</td>\n",
       "      <td>86.3</td>\n",
       "      <td>288.4</td>\n",
       "      <td>13.0</td>\n",
       "      <td>49.1</td>\n",
       "      <td>33.6</td>\n",
       "      <td>5.0</td>\n",
       "      <td>60</td>\n",
       "      <td>53</td>\n",
       "      <td>88</td>\n",
       "      <td>290</td>\n",
       "      <td>21</td>\n",
       "      <td>34</td>\n",
       "      <td>42</td>\n",
       "      <td>4</td>\n",
       "    </tr>\n",
       "    <tr>\n",
       "      <th>22</th>\n",
       "      <td>37</td>\n",
       "      <td>SRE AFONSO CLAUDIO</td>\n",
       "      <td>DOMINGOS MARTINS</td>\n",
       "      <td>260.0</td>\n",
       "      <td>247.0</td>\n",
       "      <td>95.0</td>\n",
       "      <td>299.0</td>\n",
       "      <td>14.0</td>\n",
       "      <td>31.0</td>\n",
       "      <td>43.0</td>\n",
       "      <td>11.0</td>\n",
       "      <td>262</td>\n",
       "      <td>254</td>\n",
       "      <td>97</td>\n",
       "      <td>297</td>\n",
       "      <td>14</td>\n",
       "      <td>34</td>\n",
       "      <td>42</td>\n",
       "      <td>10</td>\n",
       "    </tr>\n",
       "    <tr>\n",
       "      <th>36</th>\n",
       "      <td>34</td>\n",
       "      <td>SRE COLATINA</td>\n",
       "      <td>ITARANA</td>\n",
       "      <td>61.0</td>\n",
       "      <td>58.0</td>\n",
       "      <td>95.1</td>\n",
       "      <td>265.0</td>\n",
       "      <td>40.0</td>\n",
       "      <td>26.0</td>\n",
       "      <td>31.0</td>\n",
       "      <td>3.0</td>\n",
       "      <td>64</td>\n",
       "      <td>64</td>\n",
       "      <td>100</td>\n",
       "      <td>282</td>\n",
       "      <td>22</td>\n",
       "      <td>47</td>\n",
       "      <td>22</td>\n",
       "      <td>9</td>\n",
       "    </tr>\n",
       "    <tr>\n",
       "      <th>30</th>\n",
       "      <td>30</td>\n",
       "      <td>SRE LINHARES</td>\n",
       "      <td>IBIRACU</td>\n",
       "      <td>62.0</td>\n",
       "      <td>54.0</td>\n",
       "      <td>87.1</td>\n",
       "      <td>277.0</td>\n",
       "      <td>28.0</td>\n",
       "      <td>43.0</td>\n",
       "      <td>24.0</td>\n",
       "      <td>6.0</td>\n",
       "      <td>84</td>\n",
       "      <td>77</td>\n",
       "      <td>92</td>\n",
       "      <td>279</td>\n",
       "      <td>23</td>\n",
       "      <td>42</td>\n",
       "      <td>32</td>\n",
       "      <td>3</td>\n",
       "    </tr>\n",
       "    <tr>\n",
       "      <th>42</th>\n",
       "      <td>30</td>\n",
       "      <td>SRE LINHARES</td>\n",
       "      <td>LINHARES</td>\n",
       "      <td>1081.0</td>\n",
       "      <td>945.0</td>\n",
       "      <td>87.4</td>\n",
       "      <td>266.5</td>\n",
       "      <td>34.7</td>\n",
       "      <td>37.6</td>\n",
       "      <td>25.2</td>\n",
       "      <td>2.5</td>\n",
       "      <td>1087</td>\n",
       "      <td>998</td>\n",
       "      <td>92</td>\n",
       "      <td>275</td>\n",
       "      <td>27</td>\n",
       "      <td>40</td>\n",
       "      <td>30</td>\n",
       "      <td>4</td>\n",
       "    </tr>\n",
       "  </tbody>\n",
       "</table>\n",
       "</div>"
      ]
     },
     "execution_count": 72,
     "metadata": {},
     "output_type": "execute_result"
    }
   ],
   "execution_count": 72
  },
  {
   "metadata": {
    "ExecuteTime": {
     "end_time": "2025-07-01T16:16:09.617385Z",
     "start_time": "2025-07-01T16:16:09.608755Z"
    }
   },
   "cell_type": "code",
   "source": [
    "# Garante que as colunas existem com os nomes já padronizados\n",
    "colunas = list(paebes_lp_23e24.columns)\n",
    "\n",
    "# Remove 'regional' da posição atual\n",
    "colunas.remove('regional')\n",
    "\n",
    "# Insere 'regional' logo após 'codigo_da_regional'\n",
    "indice_codigo = colunas.index('codigo_da_regional')\n",
    "colunas.insert(indice_codigo + 1, 'regional')\n",
    "\n",
    "# Reordena o dataframe\n",
    "paebes_lp_23e24 = paebes_lp_23e24[colunas]\n"
   ],
   "id": "1cbaeaf6372603e1",
   "outputs": [],
   "execution_count": 69
  },
  {
   "metadata": {
    "ExecuteTime": {
     "end_time": "2025-07-01T16:17:13.097193Z",
     "start_time": "2025-07-01T16:17:13.076581Z"
    }
   },
   "cell_type": "code",
   "source": "paebes_lp_23e24.to_csv(\"../data/paebes_LP_23e24.csv\", index=False)",
   "id": "1582c65b1e1f4edd",
   "outputs": [],
   "execution_count": 71
  }
 ],
 "metadata": {
  "kernelspec": {
   "display_name": "Python 3",
   "language": "python",
   "name": "python3"
  },
  "language_info": {
   "codemirror_mode": {
    "name": "ipython",
    "version": 2
   },
   "file_extension": ".py",
   "mimetype": "text/x-python",
   "name": "python",
   "nbconvert_exporter": "python",
   "pygments_lexer": "ipython2",
   "version": "2.7.6"
  }
 },
 "nbformat": 4,
 "nbformat_minor": 5
}
