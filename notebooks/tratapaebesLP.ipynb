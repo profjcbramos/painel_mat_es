{
 "cells": [
  {
   "cell_type": "code",
   "id": "initial_id",
   "metadata": {
    "collapsed": true,
    "ExecuteTime": {
     "end_time": "2025-07-02T21:42:14.553216Z",
     "start_time": "2025-07-02T21:42:14.543275Z"
    }
   },
   "source": [
    "# Importações\n",
    "import pandas as pd"
   ],
   "outputs": [],
   "execution_count": 124
  },
  {
   "metadata": {},
   "cell_type": "markdown",
   "source": "Cerregamento",
   "id": "dc3f642f3f50345d"
  },
  {
   "metadata": {
    "ExecuteTime": {
     "end_time": "2025-07-02T21:42:14.677012Z",
     "start_time": "2025-07-02T21:42:14.650675Z"
    }
   },
   "cell_type": "code",
   "source": [
    "paebes_integrado_23 = pd.read_csv(\"../DadosBrutos/Paebes_integrado_2023.csv\",sep = \";\")\n",
    "paebes_regular_23 = pd.read_csv(\"../DadosBrutos/Paebes_regular_2023.csv\",sep = \";\")\n",
    "paebes_24 = pd.read_csv(\"../DadosBrutos/paebesGeral_2024.csv\",sep = \";\")"
   ],
   "id": "6fe51415a3bc909a",
   "outputs": [],
   "execution_count": 125
  },
  {
   "metadata": {},
   "cell_type": "markdown",
   "source": "Tratamento",
   "id": "7ba15fe6ad2ad531"
  },
  {
   "metadata": {
    "ExecuteTime": {
     "end_time": "2025-07-02T21:42:14.788061Z",
     "start_time": "2025-07-02T21:42:14.759256Z"
    }
   },
   "cell_type": "code",
   "source": [
    "# Lista de dataframes e colunas com porcentagem\n",
    "bases = [paebes_integrado_23, paebes_regular_23, paebes_24]\n",
    "colunas_percentuais = ['Abaixo do básico', 'Básico', 'Proficiente', 'Avançado']\n",
    "\n",
    "# Corrigir as colunas de porcentagem para valores numéricos\n",
    "for base in bases:\n",
    "    for col in colunas_percentuais:\n",
    "        base[col] = base[col].str.replace('%', '', regex=False).str.replace(',', '.', regex=False)\n",
    "        base[col] = pd.to_numeric(base[col], errors='coerce')\n"
   ],
   "id": "a5968666386945b2",
   "outputs": [],
   "execution_count": 126
  },
  {
   "metadata": {
    "ExecuteTime": {
     "end_time": "2025-07-02T21:42:14.880897Z",
     "start_time": "2025-07-02T21:42:14.861806Z"
    }
   },
   "cell_type": "code",
   "source": "paebes_integrado_23.columns",
   "id": "10a3d3fa65b06bcd",
   "outputs": [
    {
     "data": {
      "text/plain": [
       "Index(['Rede', 'Etapa', 'Componente Curricular', 'Código da Regional',\n",
       "       'Município', 'Previstos', 'Avaliados', 'Avaliados (%)',\n",
       "       'Proficiência Média', 'Abaixo do básico', 'Básico', 'Proficiente',\n",
       "       'Avançado', 'H 01 (%)', 'H 02 (%)', 'H 03 (%)', 'H 04 (%)', 'H 05 (%)',\n",
       "       'H 06 (%)', 'H 07 (%)', 'H 08 (%)', 'H 09 (%)', 'H 10 (%)', 'H 11 (%)',\n",
       "       'H 12 (%)', 'H 13 (%)', 'H 14 (%)', 'H 15 (%)', 'H 16 (%)', 'H 17 (%)',\n",
       "       'H 18 (%)', 'H 19 (%)', 'H 20 (%)', 'H 21 (%)', 'H 22 (%)', 'H 23 (%)',\n",
       "       'H 24 (%)', 'H 25 (%)', 'H 26 (%)'],\n",
       "      dtype='object')"
      ]
     },
     "execution_count": 127,
     "metadata": {},
     "output_type": "execute_result"
    }
   ],
   "execution_count": 127
  },
  {
   "metadata": {
    "ExecuteTime": {
     "end_time": "2025-07-02T21:42:15.003443Z",
     "start_time": "2025-07-02T21:42:14.996701Z"
    }
   },
   "cell_type": "code",
   "source": [
    "colunas24 = ['Regional', 'Município', 'Previstos', 'Avaliados', 'Avaliados (%)',\n",
    "       'Proficiência Média', 'Abaixo do básico', 'Básico', 'Proficiente',\n",
    "       'Avançado', ]\n",
    "\n",
    "colunas23 = ['Código da Regional',\n",
    "       'Município', 'Previstos', 'Avaliados', 'Avaliados (%)',\n",
    "       'Proficiência Média', 'Abaixo do básico', 'Básico', 'Proficiente',\n",
    "       'Avançado']\n",
    "\n"
   ],
   "id": "d4031cecb52c1f7d",
   "outputs": [],
   "execution_count": 128
  },
  {
   "metadata": {
    "ExecuteTime": {
     "end_time": "2025-07-02T21:42:15.090107Z",
     "start_time": "2025-07-02T21:42:15.079688Z"
    }
   },
   "cell_type": "code",
   "source": "paebes_24.columns",
   "id": "c97f4bb25f3cf24e",
   "outputs": [
    {
     "data": {
      "text/plain": [
       "Index(['Avaliação', 'Rede', 'Ano Escolar', 'Componente Curricular', 'Estado',\n",
       "       'Regional', 'Município', 'Previstos', 'Avaliados', 'Avaliados (%)',\n",
       "       'Proficiência Média', 'Abaixo do básico', 'Básico', 'Proficiente',\n",
       "       'Avançado', 'H 01 (%)', 'H 02 (%)', 'H 03 (%)', 'H 04 (%)', 'H 05 (%)',\n",
       "       'H 06 (%)', 'H 07 (%)', 'H 08 (%)', 'H 09 (%)', 'H 10 (%)', 'H 11 (%)',\n",
       "       'H 12 (%)', 'H 13 (%)', 'H 14 (%)', 'H 15 (%)', 'H 16 (%)', 'H 17 (%)',\n",
       "       'H 18 (%)', 'H 19 (%)', 'H 20 (%)', 'H 21 (%)', 'H 22 (%)', 'H 23 (%)',\n",
       "       'H 24 (%)', 'H 25 (%)', 'H 26 (%)'],\n",
       "      dtype='object')"
      ]
     },
     "execution_count": 129,
     "metadata": {},
     "output_type": "execute_result"
    }
   ],
   "execution_count": 129
  },
  {
   "metadata": {
    "ExecuteTime": {
     "end_time": "2025-07-02T21:42:15.192008Z",
     "start_time": "2025-07-02T21:42:15.179643Z"
    }
   },
   "cell_type": "code",
   "source": [
    "paebes_integrado_23_enxugado = paebes_integrado_23[colunas23]\n",
    "paebes_regular_23_enxugado = paebes_regular_23[colunas23]"
   ],
   "id": "cad2f7772bab201c",
   "outputs": [],
   "execution_count": 130
  },
  {
   "metadata": {
    "ExecuteTime": {
     "end_time": "2025-07-02T21:42:15.307226Z",
     "start_time": "2025-07-02T21:42:15.275632Z"
    }
   },
   "cell_type": "code",
   "source": [
    "paebes_24_enxugado = paebes_24[colunas24]\n",
    "paebes_24_enxugado.info()"
   ],
   "id": "595eae2a6505ce12",
   "outputs": [
    {
     "name": "stdout",
     "output_type": "stream",
     "text": [
      "<class 'pandas.core.frame.DataFrame'>\n",
      "RangeIndex: 78 entries, 0 to 77\n",
      "Data columns (total 10 columns):\n",
      " #   Column              Non-Null Count  Dtype \n",
      "---  ------              --------------  ----- \n",
      " 0   Regional            78 non-null     object\n",
      " 1   Município           78 non-null     object\n",
      " 2   Previstos           78 non-null     int64 \n",
      " 3   Avaliados           78 non-null     int64 \n",
      " 4   Avaliados (%)       78 non-null     int64 \n",
      " 5   Proficiência Média  78 non-null     int64 \n",
      " 6   Abaixo do básico    78 non-null     int64 \n",
      " 7   Básico              78 non-null     int64 \n",
      " 8   Proficiente         78 non-null     int64 \n",
      " 9   Avançado            78 non-null     int64 \n",
      "dtypes: int64(8), object(2)\n",
      "memory usage: 6.2+ KB\n"
     ]
    }
   ],
   "execution_count": 131
  },
  {
   "metadata": {
    "ExecuteTime": {
     "end_time": "2025-07-02T21:42:15.410037Z",
     "start_time": "2025-07-02T21:42:15.394900Z"
    }
   },
   "cell_type": "code",
   "source": "paebes_integrado_23_enxugado.info()\n",
   "id": "c61961320a6a3738",
   "outputs": [
    {
     "name": "stdout",
     "output_type": "stream",
     "text": [
      "<class 'pandas.core.frame.DataFrame'>\n",
      "RangeIndex: 44 entries, 0 to 43\n",
      "Data columns (total 10 columns):\n",
      " #   Column              Non-Null Count  Dtype \n",
      "---  ------              --------------  ----- \n",
      " 0   Código da Regional  44 non-null     int64 \n",
      " 1   Município           44 non-null     object\n",
      " 2   Previstos           44 non-null     int64 \n",
      " 3   Avaliados           44 non-null     int64 \n",
      " 4   Avaliados (%)       44 non-null     int64 \n",
      " 5   Proficiência Média  44 non-null     int64 \n",
      " 6   Abaixo do básico    44 non-null     int64 \n",
      " 7   Básico              44 non-null     int64 \n",
      " 8   Proficiente         44 non-null     int64 \n",
      " 9   Avançado            44 non-null     int64 \n",
      "dtypes: int64(9), object(1)\n",
      "memory usage: 3.6+ KB\n"
     ]
    }
   ],
   "execution_count": 132
  },
  {
   "metadata": {
    "ExecuteTime": {
     "end_time": "2025-07-02T21:42:15.522792Z",
     "start_time": "2025-07-02T21:42:15.511481Z"
    }
   },
   "cell_type": "code",
   "source": "paebes_regular_23_enxugado.info()",
   "id": "5bd77b793eb2ce68",
   "outputs": [
    {
     "name": "stdout",
     "output_type": "stream",
     "text": [
      "<class 'pandas.core.frame.DataFrame'>\n",
      "RangeIndex: 78 entries, 0 to 77\n",
      "Data columns (total 10 columns):\n",
      " #   Column              Non-Null Count  Dtype \n",
      "---  ------              --------------  ----- \n",
      " 0   Código da Regional  78 non-null     int64 \n",
      " 1   Município           78 non-null     object\n",
      " 2   Previstos           78 non-null     int64 \n",
      " 3   Avaliados           78 non-null     int64 \n",
      " 4   Avaliados (%)       78 non-null     int64 \n",
      " 5   Proficiência Média  78 non-null     int64 \n",
      " 6   Abaixo do básico    78 non-null     int64 \n",
      " 7   Básico              78 non-null     int64 \n",
      " 8   Proficiente         78 non-null     int64 \n",
      " 9   Avançado            78 non-null     int64 \n",
      "dtypes: int64(9), object(1)\n",
      "memory usage: 6.2+ KB\n"
     ]
    }
   ],
   "execution_count": 133
  },
  {
   "metadata": {
    "ExecuteTime": {
     "end_time": "2025-07-02T21:42:15.656357Z",
     "start_time": "2025-07-02T21:42:15.642306Z"
    }
   },
   "cell_type": "code",
   "source": "paebes_24_enxugado.info()",
   "id": "3c3cf8a9304e9005",
   "outputs": [
    {
     "name": "stdout",
     "output_type": "stream",
     "text": [
      "<class 'pandas.core.frame.DataFrame'>\n",
      "RangeIndex: 78 entries, 0 to 77\n",
      "Data columns (total 10 columns):\n",
      " #   Column              Non-Null Count  Dtype \n",
      "---  ------              --------------  ----- \n",
      " 0   Regional            78 non-null     object\n",
      " 1   Município           78 non-null     object\n",
      " 2   Previstos           78 non-null     int64 \n",
      " 3   Avaliados           78 non-null     int64 \n",
      " 4   Avaliados (%)       78 non-null     int64 \n",
      " 5   Proficiência Média  78 non-null     int64 \n",
      " 6   Abaixo do básico    78 non-null     int64 \n",
      " 7   Básico              78 non-null     int64 \n",
      " 8   Proficiente         78 non-null     int64 \n",
      " 9   Avançado            78 non-null     int64 \n",
      "dtypes: int64(8), object(2)\n",
      "memory usage: 6.2+ KB\n"
     ]
    }
   ],
   "execution_count": 134
  },
  {
   "metadata": {
    "ExecuteTime": {
     "end_time": "2025-07-02T21:42:15.775613Z",
     "start_time": "2025-07-02T21:42:15.763029Z"
    }
   },
   "cell_type": "code",
   "source": [
    "def combinar_paebes_regular_integrado(df_regular, df_integrado):\n",
    "    # Lista de colunas de chave para agrupamento\n",
    "    chaves = ['Código da Regional', 'Município']\n",
    "\n",
    "    # Juntar os dois dataframes\n",
    "    df_combinado = pd.concat([df_regular, df_integrado], ignore_index=True)\n",
    "\n",
    "    # Converter colunas numéricas corretamente\n",
    "    col_numericas = ['Previstos', 'Avaliados']\n",
    "    col_percentuais = ['Abaixo do básico', 'Básico', 'Proficiente', 'Avançado', 'Proficiência Média']\n",
    "\n",
    "    for col in col_numericas + col_percentuais:\n",
    "        df_combinado[col] = pd.to_numeric(df_combinado[col], errors='coerce')\n",
    "\n",
    "    # Agrupamento por município e regional\n",
    "    agrupado = df_combinado.groupby(chaves).apply(\n",
    "        lambda grupo: pd.Series({\n",
    "            'Previstos': grupo['Previstos'].sum(),\n",
    "            'Avaliados': grupo['Avaliados'].sum(),\n",
    "            'Avaliados (%)': round(100 * grupo['Avaliados'].sum() / grupo['Previstos'].sum(), 1),\n",
    "            'Proficiência Média': round((grupo['Proficiência Média'] * grupo['Avaliados']).sum() / grupo['Avaliados'].sum(), 1),\n",
    "            'Abaixo do básico': round((grupo['Abaixo do básico'] * grupo['Avaliados']).sum() / grupo['Avaliados'].sum(), 1),\n",
    "            'Básico': round((grupo['Básico'] * grupo['Avaliados']).sum() / grupo['Avaliados'].sum(), 1),\n",
    "            'Proficiente': round((grupo['Proficiente'] * grupo['Avaliados']).sum() / grupo['Avaliados'].sum(), 1),\n",
    "            'Avançado': round((grupo['Avançado'] * grupo['Avaliados']).sum() / grupo['Avaliados'].sum(), 1),\n",
    "        })\n",
    "    ).reset_index()\n",
    "\n",
    "    return agrupado\n"
   ],
   "id": "d67f922d15b9b345",
   "outputs": [],
   "execution_count": 135
  },
  {
   "metadata": {
    "ExecuteTime": {
     "end_time": "2025-07-02T21:42:16.018280Z",
     "start_time": "2025-07-02T21:42:15.875671Z"
    }
   },
   "cell_type": "code",
   "source": [
    "paebes_23_combinado = combinar_paebes_regular_integrado(\n",
    "    paebes_regular_23_enxugado,\n",
    "    paebes_integrado_23_enxugado\n",
    ")"
   ],
   "id": "64fb524d16208bc8",
   "outputs": [
    {
     "name": "stderr",
     "output_type": "stream",
     "text": [
      "C:\\Users\\carlo\\AppData\\Local\\Temp\\ipykernel_19640\\1037160167.py:16: FutureWarning: DataFrameGroupBy.apply operated on the grouping columns. This behavior is deprecated, and in a future version of pandas the grouping columns will be excluded from the operation. Either pass `include_groups=False` to exclude the groupings or explicitly select the grouping columns after groupby to silence this warning.\n",
      "  agrupado = df_combinado.groupby(chaves).apply(\n"
     ]
    }
   ],
   "execution_count": 136
  },
  {
   "metadata": {
    "ExecuteTime": {
     "end_time": "2025-07-02T21:42:16.117754Z",
     "start_time": "2025-07-02T21:42:16.099720Z"
    }
   },
   "cell_type": "code",
   "source": "paebes_23_combinado.loc[paebes_23_combinado['Município'] == 'CONCEICAO DO CASTELO']",
   "id": "e3de8570c471a9f6",
   "outputs": [
    {
     "data": {
      "text/plain": [
       "    Código da Regional             Município  Previstos  Avaliados  \\\n",
       "73                  37  CONCEICAO DO CASTELO       81.0       75.0   \n",
       "\n",
       "    Avaliados (%)  Proficiência Média  Abaixo do básico  Básico  Proficiente  \\\n",
       "73           92.6               284.0              21.0    39.0         37.0   \n",
       "\n",
       "    Avançado  \n",
       "73       3.0  "
      ],
      "text/html": [
       "<div>\n",
       "<style scoped>\n",
       "    .dataframe tbody tr th:only-of-type {\n",
       "        vertical-align: middle;\n",
       "    }\n",
       "\n",
       "    .dataframe tbody tr th {\n",
       "        vertical-align: top;\n",
       "    }\n",
       "\n",
       "    .dataframe thead th {\n",
       "        text-align: right;\n",
       "    }\n",
       "</style>\n",
       "<table border=\"1\" class=\"dataframe\">\n",
       "  <thead>\n",
       "    <tr style=\"text-align: right;\">\n",
       "      <th></th>\n",
       "      <th>Código da Regional</th>\n",
       "      <th>Município</th>\n",
       "      <th>Previstos</th>\n",
       "      <th>Avaliados</th>\n",
       "      <th>Avaliados (%)</th>\n",
       "      <th>Proficiência Média</th>\n",
       "      <th>Abaixo do básico</th>\n",
       "      <th>Básico</th>\n",
       "      <th>Proficiente</th>\n",
       "      <th>Avançado</th>\n",
       "    </tr>\n",
       "  </thead>\n",
       "  <tbody>\n",
       "    <tr>\n",
       "      <th>73</th>\n",
       "      <td>37</td>\n",
       "      <td>CONCEICAO DO CASTELO</td>\n",
       "      <td>81.0</td>\n",
       "      <td>75.0</td>\n",
       "      <td>92.6</td>\n",
       "      <td>284.0</td>\n",
       "      <td>21.0</td>\n",
       "      <td>39.0</td>\n",
       "      <td>37.0</td>\n",
       "      <td>3.0</td>\n",
       "    </tr>\n",
       "  </tbody>\n",
       "</table>\n",
       "</div>"
      ]
     },
     "execution_count": 137,
     "metadata": {},
     "output_type": "execute_result"
    }
   ],
   "execution_count": 137
  },
  {
   "metadata": {
    "ExecuteTime": {
     "end_time": "2025-07-02T21:42:16.299055Z",
     "start_time": "2025-07-02T21:42:16.290711Z"
    }
   },
   "cell_type": "code",
   "source": [
    "from unidecode import unidecode\n",
    "\n",
    "def padronizar_colunas(df):\n",
    "    df.columns = (unidecode(col).strip().lower().replace(' ', '_').replace('%', 'pct') for col in df.columns)\n",
    "    return df\n",
    "\n",
    "paebes_23_combinado = padronizar_colunas(paebes_23_combinado)\n",
    "paebes_24_enxugado = padronizar_colunas(paebes_24_enxugado)\n"
   ],
   "id": "e950c8e14a9bbad4",
   "outputs": [],
   "execution_count": 138
  },
  {
   "metadata": {
    "ExecuteTime": {
     "end_time": "2025-07-02T21:42:16.478415Z",
     "start_time": "2025-07-02T21:42:16.466413Z"
    }
   },
   "cell_type": "code",
   "source": [
    "# Identificar colunas que não são chaves\n",
    "colunas_chave = ['municipio']\n",
    "colunas_23 = [col for col in paebes_23_combinado.columns if col not in colunas_chave + ['codigo_da_regional']]\n",
    "colunas_24 = [col for col in paebes_24_enxugado.columns if col not in colunas_chave + ['regional']]\n",
    "\n",
    "# Renomear colunas com sufixos\n",
    "paebes_23_combinado = paebes_23_combinado.rename(columns={col: col + '_23' for col in colunas_23})\n",
    "paebes_24_enxugado = paebes_24_enxugado.rename(columns={col: col + '_24' for col in colunas_24})\n"
   ],
   "id": "54125fdcb4022e64",
   "outputs": [],
   "execution_count": 139
  },
  {
   "metadata": {
    "ExecuteTime": {
     "end_time": "2025-07-02T21:42:16.739171Z",
     "start_time": "2025-07-02T21:42:16.721198Z"
    }
   },
   "cell_type": "code",
   "source": [
    "paebes_lp_23e24 = pd.merge(\n",
    "    paebes_23_combinado,\n",
    "    paebes_24_enxugado,\n",
    "    how='outer',\n",
    "    on='municipio'\n",
    ")\n"
   ],
   "id": "71091ceaea8ca7dc",
   "outputs": [],
   "execution_count": 140
  },
  {
   "metadata": {
    "ExecuteTime": {
     "end_time": "2025-07-02T21:42:16.911862Z",
     "start_time": "2025-07-02T21:42:16.896447Z"
    }
   },
   "cell_type": "code",
   "source": "paebes_lp_23e24.info()",
   "id": "e61ed74557fe95b1",
   "outputs": [
    {
     "name": "stdout",
     "output_type": "stream",
     "text": [
      "<class 'pandas.core.frame.DataFrame'>\n",
      "RangeIndex: 78 entries, 0 to 77\n",
      "Data columns (total 19 columns):\n",
      " #   Column                 Non-Null Count  Dtype  \n",
      "---  ------                 --------------  -----  \n",
      " 0   codigo_da_regional     78 non-null     int64  \n",
      " 1   municipio              78 non-null     object \n",
      " 2   previstos_23           78 non-null     float64\n",
      " 3   avaliados_23           78 non-null     float64\n",
      " 4   avaliados_(pct)_23     78 non-null     float64\n",
      " 5   proficiencia_media_23  78 non-null     float64\n",
      " 6   abaixo_do_basico_23    78 non-null     float64\n",
      " 7   basico_23              78 non-null     float64\n",
      " 8   proficiente_23         78 non-null     float64\n",
      " 9   avancado_23            78 non-null     float64\n",
      " 10  regional               78 non-null     object \n",
      " 11  previstos_24           78 non-null     int64  \n",
      " 12  avaliados_24           78 non-null     int64  \n",
      " 13  avaliados_(pct)_24     78 non-null     int64  \n",
      " 14  proficiencia_media_24  78 non-null     int64  \n",
      " 15  abaixo_do_basico_24    78 non-null     int64  \n",
      " 16  basico_24              78 non-null     int64  \n",
      " 17  proficiente_24         78 non-null     int64  \n",
      " 18  avancado_24            78 non-null     int64  \n",
      "dtypes: float64(8), int64(9), object(2)\n",
      "memory usage: 11.7+ KB\n"
     ]
    }
   ],
   "execution_count": 141
  },
  {
   "metadata": {
    "ExecuteTime": {
     "end_time": "2025-07-02T21:42:17.061746Z",
     "start_time": "2025-07-02T21:42:17.036724Z"
    }
   },
   "cell_type": "code",
   "source": "paebes_lp_23e24.sample(5)",
   "id": "9e7c7cb759efd49c",
   "outputs": [
    {
     "data": {
      "text/plain": [
       "    codigo_da_regional                municipio  previstos_23  avaliados_23  \\\n",
       "18                  34                 COLATINA         763.0         697.0   \n",
       "15                  35  CACHOEIRO DE ITAPEMIRIM        1226.0        1125.0   \n",
       "35                  35               ITAPEMIRIM         154.0         141.0   \n",
       "17                  35                  CASTELO         269.0         254.0   \n",
       "45                  29        MARECHAL FLORIANO         148.0         134.0   \n",
       "\n",
       "    avaliados_(pct)_23  proficiencia_media_23  abaixo_do_basico_23  basico_23  \\\n",
       "18                91.3                  267.3                 35.1       34.2   \n",
       "15                91.8                  279.7                 22.5       43.5   \n",
       "35                91.6                  266.5                 33.0       42.9   \n",
       "17                94.4                  262.2                 37.9       33.3   \n",
       "45                90.5                  308.2                  7.8       32.8   \n",
       "\n",
       "    proficiente_23  avancado_23                     regional  previstos_24  \\\n",
       "18            26.8          3.0                 SRE COLATINA           684   \n",
       "15            30.5          3.5  SRE CACHOEIRO DE ITAPEMIRIM          1230   \n",
       "35            23.2          0.9  SRE CACHOEIRO DE ITAPEMIRIM           226   \n",
       "17            25.5          3.2  SRE CACHOEIRO DE ITAPEMIRIM           221   \n",
       "45            49.3         10.2                SRE CARIACICA           183   \n",
       "\n",
       "    avaliados_24  avaliados_(pct)_24  proficiencia_media_24  \\\n",
       "18           654                  96                    290   \n",
       "15          1176                  96                    283   \n",
       "35           220                  97                    293   \n",
       "17           215                  97                    295   \n",
       "45           178                  97                    306   \n",
       "\n",
       "    abaixo_do_basico_24  basico_24  proficiente_24  avancado_24  \n",
       "18                   17         37              40            7  \n",
       "15                   22         37              37            5  \n",
       "35                   14         43              35            7  \n",
       "17                   13         40              39            8  \n",
       "45                   10         31              49           10  "
      ],
      "text/html": [
       "<div>\n",
       "<style scoped>\n",
       "    .dataframe tbody tr th:only-of-type {\n",
       "        vertical-align: middle;\n",
       "    }\n",
       "\n",
       "    .dataframe tbody tr th {\n",
       "        vertical-align: top;\n",
       "    }\n",
       "\n",
       "    .dataframe thead th {\n",
       "        text-align: right;\n",
       "    }\n",
       "</style>\n",
       "<table border=\"1\" class=\"dataframe\">\n",
       "  <thead>\n",
       "    <tr style=\"text-align: right;\">\n",
       "      <th></th>\n",
       "      <th>codigo_da_regional</th>\n",
       "      <th>municipio</th>\n",
       "      <th>previstos_23</th>\n",
       "      <th>avaliados_23</th>\n",
       "      <th>avaliados_(pct)_23</th>\n",
       "      <th>proficiencia_media_23</th>\n",
       "      <th>abaixo_do_basico_23</th>\n",
       "      <th>basico_23</th>\n",
       "      <th>proficiente_23</th>\n",
       "      <th>avancado_23</th>\n",
       "      <th>regional</th>\n",
       "      <th>previstos_24</th>\n",
       "      <th>avaliados_24</th>\n",
       "      <th>avaliados_(pct)_24</th>\n",
       "      <th>proficiencia_media_24</th>\n",
       "      <th>abaixo_do_basico_24</th>\n",
       "      <th>basico_24</th>\n",
       "      <th>proficiente_24</th>\n",
       "      <th>avancado_24</th>\n",
       "    </tr>\n",
       "  </thead>\n",
       "  <tbody>\n",
       "    <tr>\n",
       "      <th>18</th>\n",
       "      <td>34</td>\n",
       "      <td>COLATINA</td>\n",
       "      <td>763.0</td>\n",
       "      <td>697.0</td>\n",
       "      <td>91.3</td>\n",
       "      <td>267.3</td>\n",
       "      <td>35.1</td>\n",
       "      <td>34.2</td>\n",
       "      <td>26.8</td>\n",
       "      <td>3.0</td>\n",
       "      <td>SRE COLATINA</td>\n",
       "      <td>684</td>\n",
       "      <td>654</td>\n",
       "      <td>96</td>\n",
       "      <td>290</td>\n",
       "      <td>17</td>\n",
       "      <td>37</td>\n",
       "      <td>40</td>\n",
       "      <td>7</td>\n",
       "    </tr>\n",
       "    <tr>\n",
       "      <th>15</th>\n",
       "      <td>35</td>\n",
       "      <td>CACHOEIRO DE ITAPEMIRIM</td>\n",
       "      <td>1226.0</td>\n",
       "      <td>1125.0</td>\n",
       "      <td>91.8</td>\n",
       "      <td>279.7</td>\n",
       "      <td>22.5</td>\n",
       "      <td>43.5</td>\n",
       "      <td>30.5</td>\n",
       "      <td>3.5</td>\n",
       "      <td>SRE CACHOEIRO DE ITAPEMIRIM</td>\n",
       "      <td>1230</td>\n",
       "      <td>1176</td>\n",
       "      <td>96</td>\n",
       "      <td>283</td>\n",
       "      <td>22</td>\n",
       "      <td>37</td>\n",
       "      <td>37</td>\n",
       "      <td>5</td>\n",
       "    </tr>\n",
       "    <tr>\n",
       "      <th>35</th>\n",
       "      <td>35</td>\n",
       "      <td>ITAPEMIRIM</td>\n",
       "      <td>154.0</td>\n",
       "      <td>141.0</td>\n",
       "      <td>91.6</td>\n",
       "      <td>266.5</td>\n",
       "      <td>33.0</td>\n",
       "      <td>42.9</td>\n",
       "      <td>23.2</td>\n",
       "      <td>0.9</td>\n",
       "      <td>SRE CACHOEIRO DE ITAPEMIRIM</td>\n",
       "      <td>226</td>\n",
       "      <td>220</td>\n",
       "      <td>97</td>\n",
       "      <td>293</td>\n",
       "      <td>14</td>\n",
       "      <td>43</td>\n",
       "      <td>35</td>\n",
       "      <td>7</td>\n",
       "    </tr>\n",
       "    <tr>\n",
       "      <th>17</th>\n",
       "      <td>35</td>\n",
       "      <td>CASTELO</td>\n",
       "      <td>269.0</td>\n",
       "      <td>254.0</td>\n",
       "      <td>94.4</td>\n",
       "      <td>262.2</td>\n",
       "      <td>37.9</td>\n",
       "      <td>33.3</td>\n",
       "      <td>25.5</td>\n",
       "      <td>3.2</td>\n",
       "      <td>SRE CACHOEIRO DE ITAPEMIRIM</td>\n",
       "      <td>221</td>\n",
       "      <td>215</td>\n",
       "      <td>97</td>\n",
       "      <td>295</td>\n",
       "      <td>13</td>\n",
       "      <td>40</td>\n",
       "      <td>39</td>\n",
       "      <td>8</td>\n",
       "    </tr>\n",
       "    <tr>\n",
       "      <th>45</th>\n",
       "      <td>29</td>\n",
       "      <td>MARECHAL FLORIANO</td>\n",
       "      <td>148.0</td>\n",
       "      <td>134.0</td>\n",
       "      <td>90.5</td>\n",
       "      <td>308.2</td>\n",
       "      <td>7.8</td>\n",
       "      <td>32.8</td>\n",
       "      <td>49.3</td>\n",
       "      <td>10.2</td>\n",
       "      <td>SRE CARIACICA</td>\n",
       "      <td>183</td>\n",
       "      <td>178</td>\n",
       "      <td>97</td>\n",
       "      <td>306</td>\n",
       "      <td>10</td>\n",
       "      <td>31</td>\n",
       "      <td>49</td>\n",
       "      <td>10</td>\n",
       "    </tr>\n",
       "  </tbody>\n",
       "</table>\n",
       "</div>"
      ]
     },
     "execution_count": 142,
     "metadata": {},
     "output_type": "execute_result"
    }
   ],
   "execution_count": 142
  },
  {
   "metadata": {
    "ExecuteTime": {
     "end_time": "2025-07-02T21:42:17.250845Z",
     "start_time": "2025-07-02T21:42:17.240022Z"
    }
   },
   "cell_type": "code",
   "source": [
    "# Garante que as colunas existem com os nomes já padronizados\n",
    "colunas = list(paebes_lp_23e24.columns)\n",
    "\n",
    "# Remove 'regional' da posição atual\n",
    "colunas.remove('regional')\n",
    "\n",
    "# Insere 'regional' logo após 'codigo_da_regional'\n",
    "indice_codigo = colunas.index('codigo_da_regional')\n",
    "colunas.insert(indice_codigo + 1, 'regional')\n",
    "\n",
    "# Reordena o dataframe\n",
    "paebes_lp_23e24 = paebes_lp_23e24[colunas]\n"
   ],
   "id": "1cbaeaf6372603e1",
   "outputs": [],
   "execution_count": 143
  },
  {
   "metadata": {
    "ExecuteTime": {
     "end_time": "2025-07-02T21:42:17.439853Z",
     "start_time": "2025-07-02T21:42:17.396262Z"
    }
   },
   "cell_type": "code",
   "source": "paebes_lp_23e24.to_csv(\"../data/paebes_LP_23e24.csv\", index=False)",
   "id": "1582c65b1e1f4edd",
   "outputs": [],
   "execution_count": 144
  },
  {
   "metadata": {
    "ExecuteTime": {
     "end_time": "2025-07-02T21:42:17.700564Z",
     "start_time": "2025-07-02T21:42:17.693868Z"
    }
   },
   "cell_type": "code",
   "source": "selecao_regional = 'SRE CACHOEIRO DE ITAPEMIRIM'\n",
   "id": "c127dc6bef4f9ae2",
   "outputs": [],
   "execution_count": 145
  },
  {
   "metadata": {
    "ExecuteTime": {
     "end_time": "2025-07-02T21:42:19.093610Z",
     "start_time": "2025-07-02T21:42:17.882405Z"
    }
   },
   "cell_type": "code",
   "source": [
    "import geopandas as gpd\n",
    "import folium\n",
    "from streamlit_folium import st_folium\n",
    "import matplotlib.colors as mcolors\n",
    "from unidecode import unidecode\n",
    "\n",
    "\n",
    "# Ler shapefile e CSV de regionais\n",
    "gdf_municipios = gpd.read_file ('../data/shapefile_es/ES_Municipios_2024.shp')\n",
    "df_municipios_regionais = pd.read_csv ('../data/municipios_por_regional.csv', encoding='utf-8-sig')\n",
    "df_municipios_regionais.rename (columns={'NM_MUN': 'municipio'}, inplace=True)\n",
    "df_municipios_regionais ['regional'] = df_municipios_regionais['regional'].apply(lambda x: unidecode(str(x)).upper().strip())\n",
    "\n",
    "\n",
    "# Normalização\n",
    "gdf_municipios ['municipio'] = gdf_municipios ['NM_MUN'].str.upper ().str.strip ()\n",
    "df_municipios_regionais ['municipio'] = df_municipios_regionais ['municipio'].str.upper ().str.strip ()\n",
    "\n",
    "# Merge\n",
    "gdf_mapa = gdf_municipios.merge (df_municipios_regionais, on='municipio', how='left')\n",
    "\n",
    "# Simplificação para melhorar a performance no Streamlit\n",
    "gdf_mapa ['geometry'] = gdf_mapa ['geometry'].simplify (0.001, preserve_topology=True)\n",
    "\n",
    "\n",
    "# --- Filtrar a base para a regional escolhida ---\n",
    "df_regional = df_municipios_regionais[df_municipios_regionais['regional'] == selecao_regional]\n",
    "\n",
    "\n",
    "# --- Definir centroide e zoom dinâmico com base na área da regional ---\n",
    "\n",
    "if selecao_regional == 'Todas':\n",
    "    municipios_regional = gdf_mapa ['municipio'].unique ().tolist ()\n",
    "    gdf_regional_geom = gdf_mapa [gdf_mapa ['municipio'].isin (municipios_regional)]\n",
    "\n",
    "else:\n",
    "    municipios_regional = df_regional ['municipio'].unique ().tolist () # Filtra municípios da regional selecionada\n",
    "    gdf_regional_geom = gdf_mapa [gdf_mapa ['municipio'].isin (municipios_regional)] #Seleciona os municípios filtrados na base do mapa\n",
    "\n",
    "regional_union = gdf_regional_geom.unary_union\n",
    "regional_center = regional_union.centroid\n",
    "center_lat = regional_center.y\n",
    "center_lon = regional_center.x\n",
    "\n",
    "area_km2 =  gdf_mapa ['AREA_KM2'] [gdf_mapa ['municipio'].isin (municipios_regional)].sum()\n",
    "\n",
    "# Definir zoom dinâmico\n",
    "if area_km2 < 300:\n",
    "    zoom_level = 10\n",
    "elif area_km2 < 700:\n",
    "    zoom_level = 9\n",
    "elif area_km2 < 1500:\n",
    "    zoom_level = 8\n",
    "elif area_km2 < 3000:\n",
    "    zoom_level = 7\n",
    "else:\n",
    "    zoom_level = 6\n",
    "\n",
    "# Criar mapa\n",
    "m = folium.Map (location=[center_lat, center_lon], zoom_start=zoom_level, tiles='cartodbpositron')\n",
    "\n",
    "# Cores distintas para cada regional\n",
    "regionais_unicas = gdf_mapa ['regional'].dropna ().unique ()\n",
    "color_list = list (mcolors.TABLEAU_COLORS.values ()) [:len (regionais_unicas)]\n",
    "color_dict = dict (zip (regionais_unicas, color_list))\n",
    "\n",
    "# Adicionar polígonos\n",
    "for _, row in gdf_mapa.iterrows ():\n",
    "    if pd.notnull (row ['regional']):\n",
    "        cor = color_dict.get (row ['regional'], 'gray')\n",
    "        folium.GeoJson (\n",
    "            row ['geometry'],\n",
    "            style_function=lambda x, color=cor: {\n",
    "                'fillColor': color,\n",
    "                'color': 'black',\n",
    "                'weight': 0.5,\n",
    "                'fillOpacity': 0.6\n",
    "            },\n",
    "            tooltip=f\"{row ['municipio']} - {row ['regional']}\"\n",
    "        ).add_to (m)\n",
    "\n",
    "st_folium (m, width=900, height=900)"
   ],
   "id": "54eb33cf68d09ae8",
   "outputs": [
    {
     "name": "stderr",
     "output_type": "stream",
     "text": [
      "C:\\Users\\carlo\\AppData\\Local\\Temp\\ipykernel_19640\\1644915166.py:40: DeprecationWarning: The 'unary_union' attribute is deprecated, use the 'union_all()' method instead.\n",
      "  regional_union = gdf_regional_geom.unary_union\n",
      "2025-07-02 18:42:19.069 Thread 'MainThread': missing ScriptRunContext! This warning can be ignored when running in bare mode.\n",
      "2025-07-02 18:42:19.069 Thread 'MainThread': missing ScriptRunContext! This warning can be ignored when running in bare mode.\n",
      "2025-07-02 18:42:19.069 Thread 'MainThread': missing ScriptRunContext! This warning can be ignored when running in bare mode.\n",
      "2025-07-02 18:42:19.079 Thread 'MainThread': missing ScriptRunContext! This warning can be ignored when running in bare mode.\n",
      "2025-07-02 18:42:19.082 Thread 'MainThread': missing ScriptRunContext! This warning can be ignored when running in bare mode.\n"
     ]
    },
    {
     "data": {
      "text/plain": [
       "{'last_clicked': None,\n",
       " 'last_object_clicked': None,\n",
       " 'last_object_clicked_tooltip': None,\n",
       " 'last_object_clicked_popup': None,\n",
       " 'all_drawings': None,\n",
       " 'last_active_drawing': None,\n",
       " 'bounds': {'_southWest': {'lat': -21.301782, 'lng': -41.8796411},\n",
       "  '_northEast': {'lat': -17.8919446, 'lng': -28.8477591}},\n",
       " 'zoom': 6,\n",
       " 'last_circle_radius': None,\n",
       " 'last_circle_polygon': None,\n",
       " 'selected_layers': None}"
      ]
     },
     "execution_count": 146,
     "metadata": {},
     "output_type": "execute_result"
    }
   ],
   "execution_count": 146
  },
  {
   "metadata": {
    "ExecuteTime": {
     "end_time": "2025-07-02T21:42:19.186185Z",
     "start_time": "2025-07-02T21:42:19.175230Z"
    }
   },
   "cell_type": "code",
   "source": "gdf_mapa['regional'].unique()",
   "id": "b4d8f9b069844ed3",
   "outputs": [
    {
     "data": {
      "text/plain": [
       "array(['SRE VILA VELHA', 'SRE NOVA VENECIA', 'SRE CARAPINA',\n",
       "       'SRE COLATINA', 'SRE GUACUI', 'SRE SAO MATEUS',\n",
       "       'SRE CACHOEIRO DE ITAPEMIRIM', 'SRE LINHARES',\n",
       "       'SRE BARRA DE SAO FRANCISCO', 'SRE AFONSO CLAUDIO',\n",
       "       'SRE CARIACICA'], dtype=object)"
      ]
     },
     "execution_count": 147,
     "metadata": {},
     "output_type": "execute_result"
    }
   ],
   "execution_count": 147
  },
  {
   "metadata": {
    "ExecuteTime": {
     "end_time": "2025-07-02T21:42:19.314012Z",
     "start_time": "2025-07-02T21:42:19.303213Z"
    }
   },
   "cell_type": "code",
   "source": "print(df_municipios_regionais)\n",
   "id": "312b4cc555adfec0",
   "outputs": [
    {
     "name": "stdout",
     "output_type": "stream",
     "text": [
      "                  municipio   CD_MUN            regional  id_regional\n",
      "0            AFONSO CLÁUDIO  3200102  SRE AFONSO CLAUDIO         2266\n",
      "1      CONCEIÇÃO DO CASTELO  3201704  SRE AFONSO CLAUDIO         2266\n",
      "2          LARANJA DA TERRA  3203163  SRE AFONSO CLAUDIO         2266\n",
      "3                 BREJETUBA  3201159  SRE AFONSO CLAUDIO         2266\n",
      "4   VENDA NOVA DO IMIGRANTE  3205069  SRE AFONSO CLAUDIO         2266\n",
      "..                      ...      ...                 ...          ...\n",
      "73               VILA VELHA  3205200      SRE VILA VELHA         2269\n",
      "74                GUARAPARI  3202405      SRE VILA VELHA         2269\n",
      "75                 ANCHIETA  3200409      SRE VILA VELHA         2269\n",
      "76                    PIÚMA  3204203      SRE VILA VELHA         2269\n",
      "77           ALFREDO CHAVES  3200300      SRE VILA VELHA         2269\n",
      "\n",
      "[78 rows x 4 columns]\n"
     ]
    }
   ],
   "execution_count": 148
  },
  {
   "metadata": {
    "ExecuteTime": {
     "end_time": "2025-07-02T21:42:19.427910Z",
     "start_time": "2025-07-02T21:42:19.417625Z"
    }
   },
   "cell_type": "code",
   "source": "print()",
   "id": "d28dd4c8234f8da0",
   "outputs": [
    {
     "name": "stdout",
     "output_type": "stream",
     "text": [
      "\n"
     ]
    }
   ],
   "execution_count": 149
  },
  {
   "metadata": {
    "ExecuteTime": {
     "end_time": "2025-07-02T21:42:19.644107Z",
     "start_time": "2025-07-02T21:42:19.633497Z"
    }
   },
   "cell_type": "code",
   "source": "print (df_regional)",
   "id": "c8e7082a72ebac2b",
   "outputs": [
    {
     "name": "stdout",
     "output_type": "stream",
     "text": [
      "                  municipio   CD_MUN                     regional  id_regional\n",
      "12  CACHOEIRO DE ITAPEMIRIM  3201209  SRE CACHOEIRO DE ITAPEMIRIM         2272\n",
      "13                  CASTELO  3201407  SRE CACHOEIRO DE ITAPEMIRIM         2272\n",
      "14                   ICONHA  3202603  SRE CACHOEIRO DE ITAPEMIRIM         2272\n",
      "15              VARGEM ALTA  3205036  SRE CACHOEIRO DE ITAPEMIRIM         2272\n",
      "16                    MUQUI  3203809  SRE CACHOEIRO DE ITAPEMIRIM         2272\n",
      "17          ATÍLIO VIVÁCQUA  3200706  SRE CACHOEIRO DE ITAPEMIRIM         2272\n",
      "18          RIO NOVO DO SUL  3204401  SRE CACHOEIRO DE ITAPEMIRIM         2272\n",
      "19            MIMOSO DO SUL  3203403  SRE CACHOEIRO DE ITAPEMIRIM         2272\n",
      "20       PRESIDENTE KENNEDY  3204302  SRE CACHOEIRO DE ITAPEMIRIM         2272\n",
      "21               ITAPEMIRIM  3202801  SRE CACHOEIRO DE ITAPEMIRIM         2272\n",
      "22        JERÔNIMO MONTEIRO  3203106  SRE CACHOEIRO DE ITAPEMIRIM         2272\n",
      "23               MARATAÍZES  3203320  SRE CACHOEIRO DE ITAPEMIRIM         2272\n"
     ]
    }
   ],
   "execution_count": 150
  },
  {
   "metadata": {
    "ExecuteTime": {
     "end_time": "2025-07-02T21:42:23.107940Z",
     "start_time": "2025-07-02T21:42:23.100523Z"
    }
   },
   "cell_type": "code",
   "source": "print (area_km2)\n",
   "id": "11cac43c8e311318",
   "outputs": [
    {
     "name": "stdout",
     "output_type": "stream",
     "text": [
      "5236.642\n"
     ]
    }
   ],
   "execution_count": 151
  },
  {
   "metadata": {
    "ExecuteTime": {
     "end_time": "2025-07-02T21:49:16.555416Z",
     "start_time": "2025-07-02T21:49:16.545490Z"
    }
   },
   "cell_type": "code",
   "source": "gdf_mapa.columns\n",
   "id": "c59b95dac51963e6",
   "outputs": [
    {
     "data": {
      "text/plain": [
       "Index(['CD_MUN_x', 'NM_MUN', 'CD_RGI', 'NM_RGI', 'CD_RGINT', 'NM_RGINT',\n",
       "       'CD_UF', 'NM_UF', 'SIGLA_UF', 'CD_REGIA', 'NM_REGIA', 'SIGLA_RG',\n",
       "       'CD_CONCU', 'NM_CONCU', 'AREA_KM2', 'geometry', 'municipio', 'CD_MUN_y',\n",
       "       'regional', 'id_regional'],\n",
       "      dtype='object')"
      ]
     },
     "execution_count": 156,
     "metadata": {},
     "output_type": "execute_result"
    }
   ],
   "execution_count": 156
  },
  {
   "metadata": {
    "ExecuteTime": {
     "end_time": "2025-07-02T21:53:29.501363Z",
     "start_time": "2025-07-02T21:53:29.481473Z"
    }
   },
   "cell_type": "code",
   "source": [
    "df_areas = gdf_mapa[['regional', 'AREA_KM2']]\n",
    "\n",
    "# Agrupar por regional e somar as áreas\n",
    "df_area = df_areas.groupby('regional', as_index=False).sum()\n",
    "\n",
    "# (Opcional) Renomear a coluna resultante\n",
    "df_area.rename(columns={'AREA_KM2': 'area_total_km2'}, inplace=True)\n",
    "df_area"
   ],
   "id": "a2679e5da84dee7c",
   "outputs": [
    {
     "data": {
      "text/plain": [
       "                       regional  area_total_km2\n",
       "0            SRE AFONSO CLAUDIO        4274.057\n",
       "1    SRE BARRA DE SAO FRANCISCO        4479.485\n",
       "2   SRE CACHOEIRO DE ITAPEMIRIM        5236.642\n",
       "3                  SRE CARAPINA        1614.640\n",
       "4                 SRE CARIACICA        1595.817\n",
       "5                  SRE COLATINA        5531.109\n",
       "6                    SRE GUACUI        4010.288\n",
       "7                  SRE LINHARES        6631.496\n",
       "8              SRE NOVA VENECIA        6179.610\n",
       "9                SRE SAO MATEUS        4621.840\n",
       "10               SRE VILA VELHA        1899.464"
      ],
      "text/html": [
       "<div>\n",
       "<style scoped>\n",
       "    .dataframe tbody tr th:only-of-type {\n",
       "        vertical-align: middle;\n",
       "    }\n",
       "\n",
       "    .dataframe tbody tr th {\n",
       "        vertical-align: top;\n",
       "    }\n",
       "\n",
       "    .dataframe thead th {\n",
       "        text-align: right;\n",
       "    }\n",
       "</style>\n",
       "<table border=\"1\" class=\"dataframe\">\n",
       "  <thead>\n",
       "    <tr style=\"text-align: right;\">\n",
       "      <th></th>\n",
       "      <th>regional</th>\n",
       "      <th>area_total_km2</th>\n",
       "    </tr>\n",
       "  </thead>\n",
       "  <tbody>\n",
       "    <tr>\n",
       "      <th>0</th>\n",
       "      <td>SRE AFONSO CLAUDIO</td>\n",
       "      <td>4274.057</td>\n",
       "    </tr>\n",
       "    <tr>\n",
       "      <th>1</th>\n",
       "      <td>SRE BARRA DE SAO FRANCISCO</td>\n",
       "      <td>4479.485</td>\n",
       "    </tr>\n",
       "    <tr>\n",
       "      <th>2</th>\n",
       "      <td>SRE CACHOEIRO DE ITAPEMIRIM</td>\n",
       "      <td>5236.642</td>\n",
       "    </tr>\n",
       "    <tr>\n",
       "      <th>3</th>\n",
       "      <td>SRE CARAPINA</td>\n",
       "      <td>1614.640</td>\n",
       "    </tr>\n",
       "    <tr>\n",
       "      <th>4</th>\n",
       "      <td>SRE CARIACICA</td>\n",
       "      <td>1595.817</td>\n",
       "    </tr>\n",
       "    <tr>\n",
       "      <th>5</th>\n",
       "      <td>SRE COLATINA</td>\n",
       "      <td>5531.109</td>\n",
       "    </tr>\n",
       "    <tr>\n",
       "      <th>6</th>\n",
       "      <td>SRE GUACUI</td>\n",
       "      <td>4010.288</td>\n",
       "    </tr>\n",
       "    <tr>\n",
       "      <th>7</th>\n",
       "      <td>SRE LINHARES</td>\n",
       "      <td>6631.496</td>\n",
       "    </tr>\n",
       "    <tr>\n",
       "      <th>8</th>\n",
       "      <td>SRE NOVA VENECIA</td>\n",
       "      <td>6179.610</td>\n",
       "    </tr>\n",
       "    <tr>\n",
       "      <th>9</th>\n",
       "      <td>SRE SAO MATEUS</td>\n",
       "      <td>4621.840</td>\n",
       "    </tr>\n",
       "    <tr>\n",
       "      <th>10</th>\n",
       "      <td>SRE VILA VELHA</td>\n",
       "      <td>1899.464</td>\n",
       "    </tr>\n",
       "  </tbody>\n",
       "</table>\n",
       "</div>"
      ]
     },
     "execution_count": 163,
     "metadata": {},
     "output_type": "execute_result"
    }
   ],
   "execution_count": 163
  },
  {
   "metadata": {
    "ExecuteTime": {
     "end_time": "2025-07-02T23:06:13.191760Z",
     "start_time": "2025-07-02T23:06:13.184029Z"
    }
   },
   "cell_type": "code",
   "source": [
    "cor = color_dict.get (row ['regional'], 'gray')\n",
    "\n",
    "\n",
    "print( color_dict.get)"
   ],
   "id": "593283107d34127",
   "outputs": [
    {
     "name": "stdout",
     "output_type": "stream",
     "text": [
      "<built-in method get of dict object at 0x0000021294034200>\n"
     ]
    }
   ],
   "execution_count": 165
  },
  {
   "metadata": {
    "ExecuteTime": {
     "end_time": "2025-07-02T23:51:15.973114Z",
     "start_time": "2025-07-02T23:51:15.963433Z"
    }
   },
   "cell_type": "code",
   "source": "gdf_mapa.columns",
   "id": "2fede7be037719c6",
   "outputs": [
    {
     "data": {
      "text/plain": [
       "Index(['CD_MUN_x', 'NM_MUN', 'CD_RGI', 'NM_RGI', 'CD_RGINT', 'NM_RGINT',\n",
       "       'CD_UF', 'NM_UF', 'SIGLA_UF', 'CD_REGIA', 'NM_REGIA', 'SIGLA_RG',\n",
       "       'CD_CONCU', 'NM_CONCU', 'AREA_KM2', 'geometry', 'municipio', 'CD_MUN_y',\n",
       "       'regional', 'id_regional'],\n",
       "      dtype='object')"
      ]
     },
     "execution_count": 168,
     "metadata": {},
     "output_type": "execute_result"
    }
   ],
   "execution_count": 168
  },
  {
   "metadata": {
    "ExecuteTime": {
     "end_time": "2025-07-03T00:31:44.730750Z",
     "start_time": "2025-07-03T00:31:44.708577Z"
    }
   },
   "cell_type": "code",
   "source": "df_ama = pd.read_csv('../data/ama_2serie_2024_2025_merged.csv', encoding='utf-8-sig')\n",
   "id": "25d5123c6e965611",
   "outputs": [],
   "execution_count": 170
  },
  {
   "metadata": {
    "ExecuteTime": {
     "end_time": "2025-07-03T00:31:56.786794Z",
     "start_time": "2025-07-03T00:31:56.774684Z"
    }
   },
   "cell_type": "code",
   "source": "df_ama.columns",
   "id": "404bf3223aa68293",
   "outputs": [
    {
     "data": {
      "text/plain": [
       "Index(['CD_REGIONAL', 'NM_REGIONAL', 'CD_MUNICIPIO', 'NM_MUNICIPIO',\n",
       "       'CD_ESCOLA', 'NM_ESCOLA', 'CD_ETAPA_AVALIADA', 'DC_ETAPA_AVALIADA',\n",
       "       'NM_DISCIPLINA', 'NU_ACERTO_24', 'NU_TOTAL_24', 'TX_ACERTO_24',\n",
       "       'ct_alto_24', 'ct_medio_24', 'ct_baixo_24', 'ct_muito_baixo_24',\n",
       "       'NU_ACERTO_25', 'NU_TOTAL_25', 'TX_ACERTO_25', 'ct_alto_25',\n",
       "       'ct_medio_25', 'ct_baixo_25', 'ct_muito_baixo_25'],\n",
       "      dtype='object')"
      ]
     },
     "execution_count": 171,
     "metadata": {},
     "output_type": "execute_result"
    }
   ],
   "execution_count": 171
  }
 ],
 "metadata": {
  "kernelspec": {
   "display_name": "Python 3",
   "language": "python",
   "name": "python3"
  },
  "language_info": {
   "codemirror_mode": {
    "name": "ipython",
    "version": 2
   },
   "file_extension": ".py",
   "mimetype": "text/x-python",
   "name": "python",
   "nbconvert_exporter": "python",
   "pygments_lexer": "ipython2",
   "version": "2.7.6"
  }
 },
 "nbformat": 4,
 "nbformat_minor": 5
}
