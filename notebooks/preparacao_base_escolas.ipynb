{
 "cells": [
  {
   "cell_type": "markdown",
   "id": "476f7787",
   "metadata": {},
   "source": [
    "### Seção 1 – Importações e Configuração Inicial"
   ]
  },
  {
   "cell_type": "code",
   "id": "d9f5f4e7",
   "metadata": {
    "ExecuteTime": {
     "end_time": "2025-06-21T19:02:16.197296Z",
     "start_time": "2025-06-21T19:02:15.654456Z"
    }
   },
   "source": "# Importações",
   "outputs": [],
   "execution_count": 1
  },
  {
   "metadata": {
    "ExecuteTime": {
     "end_time": "2025-06-21T19:02:23.738949Z",
     "start_time": "2025-06-21T19:02:23.717443Z"
    }
   },
   "cell_type": "code",
   "source": [
    "import os\n",
    "os.chdir('..')\n"
   ],
   "id": "139de9468b10d423",
   "outputs": [],
   "execution_count": 2
  },
  {
   "cell_type": "markdown",
   "id": "7de55c0c",
   "metadata": {},
   "source": [
    "### Seção 2 – Função para detectar encoding"
   ]
  },
  {
   "cell_type": "code",
   "id": "834089ff",
   "metadata": {
    "ExecuteTime": {
     "end_time": "2025-06-21T19:02:27.112166Z",
     "start_time": "2025-06-21T19:02:27.103088Z"
    }
   },
   "source": [
    "\n",
    "def detectar_encoding(caminho_arquivo, n_bytes=10000):\n",
    "    with open(caminho_arquivo, 'rb') as f:\n",
    "        resultado = chardet.detect(f.read(n_bytes))\n",
    "    return resultado['encoding']\n"
   ],
   "outputs": [],
   "execution_count": 3
  },
  {
   "cell_type": "markdown",
   "id": "f47882fd",
   "metadata": {},
   "source": [
    "### Seção 3 – Definir caminhos dos arquivos e detectar encoding"
   ]
  },
  {
   "cell_type": "code",
   "id": "a90111da",
   "metadata": {
    "ExecuteTime": {
     "end_time": "2025-06-21T19:05:01.890869Z",
     "start_time": "2025-06-21T19:05:01.860744Z"
    }
   },
   "source": [
    "arquivos = {\n",
    "    'ama': 'D:\\PÓS MDE\\Seminario_VD\\data\\\\ama_escola.csv',\n",
    "    'escolas': 'data/escolas_es.csv',\n",
    "    'idebes': 'data/idebes_por_escolas.csv',\n",
    "    'olimpiada': 'data/olimpiada_escolas_com_inep.csv',\n",
    "    'municipios_regionais': 'data/municipios_por_regional.csv'\n",
    "}\n",
    "\n",
    "encodings = {}\n",
    "for nome, caminho in arquivos.items():\n",
    "    encodings[nome] = detectar_encoding(caminho)\n",
    "\n",
    "print(encodings)\n"
   ],
   "outputs": [
    {
     "name": "stdout",
     "output_type": "stream",
     "text": [
      "{'ama': 'UTF-8-SIG', 'escolas': 'UTF-8-SIG', 'idebes': 'ascii', 'olimpiada': 'utf-8', 'municipios_regionais': 'utf-8'}\n"
     ]
    }
   ],
   "execution_count": 6
  },
  {
   "cell_type": "markdown",
   "id": "3170924f",
   "metadata": {},
   "source": [
    "### Seção 4 – Leitura das bases e renomeação de colunas"
   ]
  },
  {
   "cell_type": "code",
   "id": "f46b2c35",
   "metadata": {
    "ExecuteTime": {
     "end_time": "2025-06-21T19:08:41.107349Z",
     "start_time": "2025-06-21T19:08:41.040698Z"
    }
   },
   "source": [
    "\n",
    "# AMA\n",
    "df_ama = pd.read_csv(arquivos['ama'], encoding=encodings['ama'])\n",
    "df_ama = df_ama[['CD_ESCOLA', 'NU_ACERTO', 'NU_TOTAL', 'TX_ACERTO']].rename(columns={\n",
    "    'CD_ESCOLA': 'cod_inep',\n",
    "    'NU_ACERTO': 'ama_nu_acerto',\n",
    "    'NU_TOTAL': 'ama_nu_total',\n",
    "    'TX_ACERTO': 'ama_tx_acerto'\n",
    "})\n",
    "\n",
    "# Escolas\n",
    "df_escolas = pd.read_csv(arquivos['escolas'], encoding=encodings['escolas'])\n",
    "df_escolas = df_escolas[['Código INEP', 'Escola', 'Município', 'Latitude', 'Longitude']].rename(columns={\n",
    "    'Código INEP': 'cod_inep',\n",
    "    'Escola': 'nome_escola',\n",
    "    'Município': 'municipio',\n",
    "    'Latitude': 'latitude',\n",
    "    'Longitude': 'longitude'\n",
    "})\n",
    "\n",
    "# IDEBES\n",
    "df_idebes = pd.read_csv(arquivos['idebes'], encoding=encodings['idebes'], sep=';')\n",
    "df_idebes = df_idebes[['COD_INEP', 'IDEBES_2024']].rename(columns={\n",
    "    'COD_INEP': 'cod_inep',\n",
    "    'IDEBES_2024': 'idebes'\n",
    "})\n",
    "\n",
    "# Olimpíada\n",
    "df_olimpiada = pd.read_csv(arquivos['olimpiada'], encoding=encodings['olimpiada'])\n",
    "df_olimpiada = df_olimpiada[['cod_inep', 'med_escola']].rename(columns={\n",
    "    'med_escola': 'olimpiada'\n",
    "})\n",
    "df_municipios_regionais = pd.read_csv('data/municipios_por_regional.csv', encoding=encodings['municipios_regionais'])"
   ],
   "outputs": [],
   "execution_count": 7
  },
  {
   "cell_type": "markdown",
   "id": "42fb8be4",
   "metadata": {},
   "source": [
    "### Seção 5 – Simulação da base de Iniciação Científica (PICMat)"
   ]
  },
  {
   "cell_type": "code",
   "id": "2b7b1bae",
   "metadata": {
    "ExecuteTime": {
     "end_time": "2025-06-21T19:08:50.100677Z",
     "start_time": "2025-06-21T19:08:50.082664Z"
    }
   },
   "source": [
    "\n",
    "df_picmat = df_escolas[['cod_inep', 'nome_escola']].copy()\n",
    "df_picmat['participante'] = 0\n",
    "df_picmat.loc[df_picmat.sample(frac=0.2, random_state=42).index, 'participante'] = 1\n"
   ],
   "outputs": [],
   "execution_count": 8
  },
  {
   "cell_type": "markdown",
   "id": "b65eabbd",
   "metadata": {},
   "source": [
    "### Seção 6 – Merge progressivo das bases"
   ]
  },
  {
   "cell_type": "code",
   "id": "3c7bfa27",
   "metadata": {
    "ExecuteTime": {
     "end_time": "2025-06-21T19:08:52.923370Z",
     "start_time": "2025-06-21T19:08:52.904012Z"
    }
   },
   "source": [
    "\n",
    "df_base = df_escolas.copy()\n",
    "\n",
    "df_base = df_base.merge(df_idebes, on='cod_inep', how='left')\n",
    "df_base = df_base.merge(df_ama, on='cod_inep', how='left')\n",
    "df_base = df_base.merge(df_olimpiada, on='cod_inep', how='left')\n",
    "df_base = df_base.merge(df_picmat[['cod_inep', 'participante']], on='cod_inep', how='left')\n"
   ],
   "outputs": [],
   "execution_count": 9
  },
  {
   "metadata": {
    "ExecuteTime": {
     "end_time": "2025-06-21T19:08:55.252739Z",
     "start_time": "2025-06-21T19:08:55.237679Z"
    }
   },
   "cell_type": "code",
   "source": [
    "\n",
    "# Normalizar o nome dos municípios nas duas bases antes de juntar\n",
    "df_base['municipio'] = df_base['municipio'].str.upper().str.strip()\n",
    "df_municipios_regionais['NM_MUN'] = df_municipios_regionais['NM_MUN'].str.upper().str.strip()\n",
    "\n",
    "# Fazer o merge\n",
    "df_base = df_base.merge(df_municipios_regionais[['NM_MUN', 'regional']], left_on='municipio', right_on='NM_MUN', how='left')\n",
    "\n",
    "# Depois pode remover a coluna NM_MUN se quiser\n",
    "df_base.drop(columns=['NM_MUN'], inplace=True)\n"
   ],
   "id": "8de570feb98c7b79",
   "outputs": [],
   "execution_count": 10
  },
  {
   "cell_type": "markdown",
   "id": "53df3e6d",
   "metadata": {},
   "source": [
    "### Seção 7 – Limpeza de colunas duplicadas"
   ]
  },
  {
   "cell_type": "code",
   "id": "7a63d115",
   "metadata": {
    "ExecuteTime": {
     "end_time": "2025-06-21T19:08:58.612822Z",
     "start_time": "2025-06-21T19:08:58.603108Z"
    }
   },
   "source": [
    "\n",
    "df_base = df_base.loc[:, ~df_base.columns.duplicated()]\n"
   ],
   "outputs": [],
   "execution_count": 11
  },
  {
   "cell_type": "markdown",
   "id": "c2c66b45",
   "metadata": {},
   "source": [
    "### Seção 8 – Tratamento de valores ausentes"
   ]
  },
  {
   "cell_type": "code",
   "id": "7d8485f9",
   "metadata": {
    "ExecuteTime": {
     "end_time": "2025-06-21T19:09:00.742913Z",
     "start_time": "2025-06-21T19:09:00.731567Z"
    }
   },
   "source": [
    "\n",
    "df_base.fillna({\n",
    "    'idebes': 0,\n",
    "    'ama_nu_acerto': 0,\n",
    "    'ama_nu_total': 0,\n",
    "    'ama_tx_acerto': 0,\n",
    "    'olimpiada': 0,\n",
    "    'participante': 0\n",
    "}, inplace=True)\n"
   ],
   "outputs": [],
   "execution_count": 12
  },
  {
   "metadata": {},
   "cell_type": "markdown",
   "source": "### Seção 09 – Conferência final\n",
   "id": "3a677f9b"
  },
  {
   "cell_type": "code",
   "id": "47448a7e",
   "metadata": {
    "ExecuteTime": {
     "end_time": "2025-06-21T19:09:05.988837Z",
     "start_time": "2025-06-21T19:09:05.965015Z"
    }
   },
   "source": [
    "\n",
    "print(df_base.info())\n",
    "print(df_base.head())\n"
   ],
   "outputs": [
    {
     "name": "stdout",
     "output_type": "stream",
     "text": [
      "<class 'pandas.core.frame.DataFrame'>\n",
      "RangeIndex: 396 entries, 0 to 395\n",
      "Data columns (total 12 columns):\n",
      " #   Column         Non-Null Count  Dtype  \n",
      "---  ------         --------------  -----  \n",
      " 0   cod_inep       396 non-null    int64  \n",
      " 1   nome_escola    396 non-null    object \n",
      " 2   municipio      396 non-null    object \n",
      " 3   latitude       396 non-null    object \n",
      " 4   longitude      396 non-null    object \n",
      " 5   idebes         396 non-null    object \n",
      " 6   ama_nu_acerto  396 non-null    float64\n",
      " 7   ama_nu_total   396 non-null    float64\n",
      " 8   ama_tx_acerto  396 non-null    float64\n",
      " 9   olimpiada      396 non-null    float64\n",
      " 10  participante   396 non-null    int64  \n",
      " 11  regional       396 non-null    object \n",
      "dtypes: float64(4), int64(2), object(6)\n",
      "memory usage: 37.3+ KB\n",
      "None\n",
      "   cod_inep                     nome_escola               municipio  \\\n",
      "0  32000057  EEEFM SEBASTIAO COIMBRA ELIZEU      ÁGUA DOCE DO NORTE   \n",
      "1  32000480          EEEFM OLEGARIO MARTINS      ÁGUA DOCE DO NORTE   \n",
      "2  32000499    EEEFM DERMEVAL LEITE RIBEIRO      ÁGUA DOCE DO NORTE   \n",
      "3  32000979     EEEFM GOVERNADOR LINDENBERG  BARRA DE SÃO FRANCISCO   \n",
      "4  32000987              CEEFMTI JOAO XXIII  BARRA DE SÃO FRANCISCO   \n",
      "\n",
      "      latitude    longitude idebes  ama_nu_acerto  ama_nu_total  \\\n",
      "0   -18.550061  -40.9775337    4,6         3167.0        6800.0   \n",
      "1    -18.41686    -41.12352    4,3          569.0        1500.0   \n",
      "2  -18.4163464  -41.0317018    3,9         1457.0        2820.0   \n",
      "3   -18.749677  -40.8936694    4,5         4481.0       11600.0   \n",
      "4  -18.7559555  -40.8981092    5,1         5131.0        9800.0   \n",
      "\n",
      "   ama_tx_acerto  olimpiada  participante                    regional  \n",
      "0      46.573529   6.791667             1  SRE Barra de São Francisco  \n",
      "1      37.933333   6.250000             0  SRE Barra de São Francisco  \n",
      "2      51.666667   8.133333             0  SRE Barra de São Francisco  \n",
      "3      38.629310   4.297297             1  SRE Barra de São Francisco  \n",
      "4      52.357143   5.320000             0  SRE Barra de São Francisco  \n"
     ]
    }
   ],
   "execution_count": 13
  },
  {
   "metadata": {},
   "cell_type": "markdown",
   "source": "#### Seção 09.1 - Ajuste\n",
   "id": "52566f2b63fc7eb2"
  },
  {
   "metadata": {
    "ExecuteTime": {
     "end_time": "2025-06-21T19:09:09.175200Z",
     "start_time": "2025-06-21T19:09:09.167298Z"
    }
   },
   "cell_type": "code",
   "source": "df_base['idebes'] = df_base['idebes'].astype(str).str.replace(',', '.').str.strip().astype(float)",
   "id": "a2d18e8b22b4ddcf",
   "outputs": [],
   "execution_count": 14
  },
  {
   "metadata": {},
   "cell_type": "markdown",
   "source": "### Seção 10 – Exportação da base final",
   "id": "cecd432b"
  },
  {
   "metadata": {
    "ExecuteTime": {
     "end_time": "2025-06-21T19:09:25.743058Z",
     "start_time": "2025-06-21T19:09:25.728547Z"
    }
   },
   "cell_type": "code",
   "source": "df_base.to_csv('data/dados_escolas.csv', index=False, encoding='utf-8-sig')",
   "id": "d3020a61",
   "outputs": [],
   "execution_count": 16
  },
  {
   "metadata": {},
   "cell_type": "markdown",
   "source": "b",
   "id": "f3d91fa654572153"
  },
  {
   "metadata": {},
   "cell_type": "code",
   "outputs": [],
   "execution_count": null,
   "source": "",
   "id": "14bd8566f2dd9e57"
  }
 ],
 "metadata": {},
 "nbformat": 4,
 "nbformat_minor": 5
}
